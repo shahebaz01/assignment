{
 "cells": [
  {
   "cell_type": "code",
   "execution_count": 1,
   "id": "53ef3aba-0a59-409b-96d5-f880af4fa021",
   "metadata": {},
   "outputs": [],
   "source": [
    "#Q1. What is multiprocessing in python? Why is it useful?"
   ]
  },
  {
   "cell_type": "code",
   "execution_count": 2,
   "id": "bdac321f-f6e4-4122-9900-d93f3d952a99",
   "metadata": {},
   "outputs": [],
   "source": [
    "#Multiprocessing refers to the ability of a system to support more than one processor at the same time. \n",
    "#Applications in a multiprocessing system are broken to smaller routines that run independently. \n",
    "#The operating system allocates these threads to the processors improving performance of the system.\n",
    "#you can use multiprocessing to speed up CPU-bound tasks by distributing work across multiple cores on your computer. \n",
    "#It can be very useful when you have a computationally intensive task that can be broken down into smaller, \n",
    "#independent parts that can be executed in parallel."
   ]
  },
  {
   "cell_type": "code",
   "execution_count": 3,
   "id": "9e3e3253-8f5b-4678-b22f-d463dae347d5",
   "metadata": {},
   "outputs": [],
   "source": [
    "#Q2. What are the differences between multiprocessing and multithreading?"
   ]
  },
  {
   "cell_type": "code",
   "execution_count": 4,
   "id": "02dca551-f3a5-4712-b0e8-4ffa392c48e6",
   "metadata": {},
   "outputs": [],
   "source": [
    "#Multiprocessing is a system that has more than one or two processors. \n",
    "#In Multiprocessing, CPUs are added for increasing computing speed of the system. \n",
    "#Because of Multiprocessing, There are many processes are executed simultaneously.\n",
    "\n",
    "# Multithreading is a system in which multiple threads are created of a process for \n",
    "#increasing the computing speed of the system. In multithreading, many threads of a \n",
    "#process are executed simultaneously and process creation \n",
    "#in multithreading is done according to economical. "
   ]
  },
  {
   "cell_type": "code",
   "execution_count": 5,
   "id": "2aa4f8cc-fca8-4770-a321-19597a0c45f9",
   "metadata": {},
   "outputs": [],
   "source": [
    "#Q3. Write a python code to create a process using the multiprocessing module."
   ]
  },
  {
   "cell_type": "code",
   "execution_count": 7,
   "id": "124c925e-e064-4159-892e-b4ceb75fc23c",
   "metadata": {},
   "outputs": [
    {
     "name": "stdout",
     "output_type": "stream",
     "text": [
      "Hello, shahebaz!\n"
     ]
    }
   ],
   "source": [
    "from multiprocessing import Process\n",
    "\n",
    "def my_function(name):\n",
    "    print(f'Hello, {name}!')\n",
    "\n",
    "if __name__ == '__main__':\n",
    "    p = Process(target=my_function, args=('shahebaz',))\n",
    "    p.start()\n",
    "    p.join()\n"
   ]
  },
  {
   "cell_type": "code",
   "execution_count": 8,
   "id": "daf01665-04b1-4d12-97b8-7322a771e48d",
   "metadata": {},
   "outputs": [],
   "source": [
    "#Q4. What is a multiprocessing pool in python? Why is it used?"
   ]
  },
  {
   "cell_type": "code",
   "execution_count": 9,
   "id": "ddc37fdc-2d63-417f-baa8-097fa6ebc956",
   "metadata": {},
   "outputs": [],
   "source": [
    "#is a package that supports spawning processes using an API similar to the threading module. \n",
    "#The multiprocessing package offers both local and remote concurrency, effectively side-stepping \n",
    "#the Global Interpreter Lock by using subprocesses instead of threads. Due to this, \n",
    "#the multiprocessing module allows the programmer to fully leverage multiple processors on a given machine. \n",
    "#It runs on both Unix and Windows."
   ]
  },
  {
   "cell_type": "code",
   "execution_count": 10,
   "id": "bcdcdb80-e94f-4f15-b976-fc7670de6b78",
   "metadata": {},
   "outputs": [],
   "source": [
    "#Q5. How can we create a pool of worker processes in python using the multiprocessing module?"
   ]
  },
  {
   "cell_type": "code",
   "execution_count": 14,
   "id": "6f974689-a257-4b10-b5ff-ad7798b4acd9",
   "metadata": {},
   "outputs": [
    {
     "name": "stdout",
     "output_type": "stream",
     "text": [
      "[1, 4, 9, 16]\n"
     ]
    }
   ],
   "source": [
    "from multiprocessing import Pool\n",
    "\n",
    "def my_function(x):\n",
    "    return x * x\n",
    "\n",
    "if __name__ == '__main__':\n",
    "    with Pool(processes=4) as pool:\n",
    "        result = pool.map(my_function, [1, 2, 3, 4])\n",
    "        print(result)\n"
   ]
  },
  {
   "cell_type": "code",
   "execution_count": null,
   "id": "55b77210-4dc3-4d25-bb6e-94038d91d550",
   "metadata": {},
   "outputs": [],
   "source": []
  }
 ],
 "metadata": {
  "kernelspec": {
   "display_name": "Python 3 (ipykernel)",
   "language": "python",
   "name": "python3"
  },
  "language_info": {
   "codemirror_mode": {
    "name": "ipython",
    "version": 3
   },
   "file_extension": ".py",
   "mimetype": "text/x-python",
   "name": "python",
   "nbconvert_exporter": "python",
   "pygments_lexer": "ipython3",
   "version": "3.10.8"
  }
 },
 "nbformat": 4,
 "nbformat_minor": 5
}
