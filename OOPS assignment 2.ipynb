{
 "cells": [
  {
   "cell_type": "code",
   "execution_count": 1,
   "id": "c1fbfacd-f08a-42e5-aa9e-e822ecb25305",
   "metadata": {},
   "outputs": [],
   "source": [
    "#Q1. What is Abstraction in OOps? Explain with an example."
   ]
  },
  {
   "cell_type": "code",
   "execution_count": 2,
   "id": "81ae4947-6e19-4189-99db-54d10fd0d2f4",
   "metadata": {},
   "outputs": [],
   "source": [
    "#abstraction is a process of hiding the implementation details from the user so the user only can see \n",
    "#the highlighted set of services provided."
   ]
  },
  {
   "cell_type": "code",
   "execution_count": 3,
   "id": "a0caa77c-1911-47d9-b6a4-a16f749f585b",
   "metadata": {},
   "outputs": [],
   "source": [
    "import abc\n",
    "class pwskills :\n",
    "    @abc.abstractmethod\n",
    "    def student_details(self):\n",
    "        pass\n",
    "    @abc.abstractmethod\n",
    "    def student_assignment(self):\n",
    "        pass\n",
    "    @abc.abstractmethod\n",
    "    def student_marks(self):\n",
    "        pass"
   ]
  },
  {
   "cell_type": "code",
   "execution_count": 4,
   "id": "19192270-77f1-4548-beed-3f862e462ddb",
   "metadata": {},
   "outputs": [],
   "source": [
    "class student_details(pwskills):\n",
    "    \n",
    "    def student_details(self):\n",
    "        return \"this is a method for taking students details\"\n",
    "    \n",
    "    def student_assignment(self):\n",
    "        return \"this is a method for a assignment\""
   ]
  },
  {
   "cell_type": "code",
   "execution_count": 5,
   "id": "587e613c-73c6-4836-a68d-7d494f057ee8",
   "metadata": {},
   "outputs": [],
   "source": [
    "class data_science_masters(pwskills):\n",
    "    \n",
    "    def student_details(self):\n",
    "        return \"this will return student details for masters class\"\n",
    "    \n",
    "    def student_assignment(self):\n",
    "        return \"this meth will give assignment details\""
   ]
  },
  {
   "cell_type": "code",
   "execution_count": 6,
   "id": "ffb0ddaa-cd91-4dc8-9fcd-9623cc8d08ba",
   "metadata": {},
   "outputs": [
    {
     "data": {
      "text/plain": [
       "'this will return student details for masters class'"
      ]
     },
     "execution_count": 6,
     "metadata": {},
     "output_type": "execute_result"
    }
   ],
   "source": [
    "dsm = data_science_masters()\n",
    "dsm.student_details()"
   ]
  },
  {
   "cell_type": "code",
   "execution_count": 7,
   "id": "23f2cbac-0b3b-4fe8-8273-1e492da51961",
   "metadata": {},
   "outputs": [],
   "source": [
    "#Q2. Differentiate between Abstraction and Encapsulation. Explain with an example."
   ]
  },
  {
   "cell_type": "code",
   "execution_count": 8,
   "id": "6ccc7865-d3e0-4dcd-9d24-7a1204970441",
   "metadata": {},
   "outputs": [],
   "source": [
    "#Abstraction is a process of hiding the implementation details of a system from the user, and only the \n",
    "#functional details will be available to the user end.\n",
    "\n",
    "#Encapsulation is a method of wrapping up the data and code acting on the data into a single unit."
   ]
  },
  {
   "cell_type": "code",
   "execution_count": 9,
   "id": "a8c44dc2-1d3d-421c-a301-89dc71cb7cd2",
   "metadata": {},
   "outputs": [
    {
     "name": "stdout",
     "output_type": "stream",
     "text": [
      "boiling...\n",
      "Coffee is ready!\n",
      "boiling...\n",
      "Coffee is ready!\n",
      "boiling...\n",
      "Coffee is ready!\n",
      "boiling...\n",
      "Coffee is ready!\n",
      "Please add water!\n"
     ]
    }
   ],
   "source": [
    "class CoffeeMachine:\n",
    "    def __init__(self):\n",
    "        self.water_level = 100\n",
    "\n",
    "    def _boil_water(self):\n",
    "        return \"boiling...\"\n",
    "\n",
    "    def make_coffee(self):\n",
    "        if self.water_level > 20:\n",
    "            self.water_level -= 20\n",
    "            print(self._boil_water())\n",
    "            print(\"Coffee is ready!\")\n",
    "        else:\n",
    "            print(\"Please add water!\")\n",
    "\n",
    "machine = CoffeeMachine()\n",
    "for i in range(5):\n",
    "    machine.make_coffee()\n"
   ]
  },
  {
   "cell_type": "code",
   "execution_count": 10,
   "id": "4fc85435-fb84-42aa-8ff0-f88771cd890b",
   "metadata": {},
   "outputs": [],
   "source": [
    "#Q3. What is abc module in python? Why is it used?"
   ]
  },
  {
   "cell_type": "code",
   "execution_count": 11,
   "id": "f79aa528-5640-4caf-ad22-455946259c8d",
   "metadata": {},
   "outputs": [],
   "source": [
    "#The 'abc' module in Python library provides the infrastructure for defining custom abstract base classes. \n",
    "#'abc' works by marking methods of the base class as abstract.\n",
    "#This is done by @absttractmethod decorator."
   ]
  },
  {
   "cell_type": "code",
   "execution_count": 15,
   "id": "b4cae981-a316-44eb-a0d3-ac3e375fa50c",
   "metadata": {},
   "outputs": [],
   "source": [
    "import abc\n",
    "class pwskills :\n",
    "    @abc.abstractmethod\n",
    "    def student_details(self):\n",
    "        pass\n",
    "    @abc.abstractmethod\n",
    "    def student_assignment(self):\n",
    "        pass\n",
    "    @abc.abstractmethod\n",
    "    def student_marks(self):\n",
    "        pass"
   ]
  },
  {
   "cell_type": "code",
   "execution_count": 16,
   "id": "631890b8-0d6b-4a23-be49-28382b404025",
   "metadata": {},
   "outputs": [],
   "source": [
    "#Q4. How can we achieve data abstraction?"
   ]
  },
  {
   "cell_type": "code",
   "execution_count": 26,
   "id": "fefb91f5-1d68-4cfe-94fb-bc908958da4f",
   "metadata": {},
   "outputs": [],
   "source": [
    "from abc import ABC, abstractmethod\n",
    "\n",
    "class Shape(ABC):\n",
    "    @abstractmethod\n",
    "    def area(self):\n",
    "        pass\n",
    "\n",
    "class Rectangle(Shape):\n",
    "    def __init__(self, width, height):\n",
    "        self.width = width\n",
    "        self.height = height\n",
    "\n",
    "    def area(self):\n",
    "        return self.width * self.height\n",
    "\n",
    "class Circle(Shape):\n",
    "    def __init__(self, radius):\n",
    "        self.radius = radius\n",
    "\n",
    "    def area(self):\n",
    "        return 3.14 * self.radius * self.radius\n"
   ]
  },
  {
   "cell_type": "code",
   "execution_count": 29,
   "id": "ef913ad9-c396-44c8-afbc-d54c770ce127",
   "metadata": {},
   "outputs": [],
   "source": [
    "r = Rectangle(20,23)"
   ]
  },
  {
   "cell_type": "code",
   "execution_count": 30,
   "id": "fca9f719-aebb-4420-b731-33229dd7c35b",
   "metadata": {},
   "outputs": [
    {
     "data": {
      "text/plain": [
       "<__main__.Rectangle at 0x7fdaa443ab90>"
      ]
     },
     "execution_count": 30,
     "metadata": {},
     "output_type": "execute_result"
    }
   ],
   "source": [
    "r"
   ]
  },
  {
   "cell_type": "code",
   "execution_count": 31,
   "id": "75f3aa25-9b8d-44b1-b192-cff4691ce0cb",
   "metadata": {},
   "outputs": [],
   "source": [
    "#Q5. Can we create an instance of an abstract class? Explain your answer."
   ]
  },
  {
   "cell_type": "code",
   "execution_count": 32,
   "id": "506b18fd-d1fb-43ed-a3a8-301e1acd4ad6",
   "metadata": {},
   "outputs": [],
   "source": [
    "#No, we cannot create an instance of an abstract class. An abstract class is a class \n",
    "#that cannot be instantiated and is meant to be subclassed by other classes. \n",
    "#It defines a common interface for its subclasses and can contain abstract \n",
    "#methods that must be implemented by its subclasses."
   ]
  },
  {
   "cell_type": "code",
   "execution_count": 33,
   "id": "3227d0b3-280b-497c-8f87-8f76e438790b",
   "metadata": {},
   "outputs": [
    {
     "ename": "TypeError",
     "evalue": "Can't instantiate abstract class Shape with abstract method area",
     "output_type": "error",
     "traceback": [
      "\u001b[0;31m---------------------------------------------------------------------------\u001b[0m",
      "\u001b[0;31mTypeError\u001b[0m                                 Traceback (most recent call last)",
      "Cell \u001b[0;32mIn[33], line 8\u001b[0m\n\u001b[1;32m      4\u001b[0m     \u001b[38;5;129m@abstractmethod\u001b[39m\n\u001b[1;32m      5\u001b[0m     \u001b[38;5;28;01mdef\u001b[39;00m \u001b[38;5;21marea\u001b[39m(\u001b[38;5;28mself\u001b[39m):\n\u001b[1;32m      6\u001b[0m         \u001b[38;5;28;01mpass\u001b[39;00m\n\u001b[0;32m----> 8\u001b[0m s \u001b[38;5;241m=\u001b[39m \u001b[43mShape\u001b[49m\u001b[43m(\u001b[49m\u001b[43m)\u001b[49m\n",
      "\u001b[0;31mTypeError\u001b[0m: Can't instantiate abstract class Shape with abstract method area"
     ]
    }
   ],
   "source": [
    "from abc import ABC, abstractmethod\n",
    "\n",
    "class Shape(ABC):\n",
    "    @abstractmethod\n",
    "    def area(self):\n",
    "        pass\n",
    "\n",
    "s = Shape()\n"
   ]
  },
  {
   "cell_type": "code",
   "execution_count": null,
   "id": "335908bd-e69a-46ae-be82-52dc8c6122fc",
   "metadata": {},
   "outputs": [],
   "source": []
  }
 ],
 "metadata": {
  "kernelspec": {
   "display_name": "Python 3 (ipykernel)",
   "language": "python",
   "name": "python3"
  },
  "language_info": {
   "codemirror_mode": {
    "name": "ipython",
    "version": 3
   },
   "file_extension": ".py",
   "mimetype": "text/x-python",
   "name": "python",
   "nbconvert_exporter": "python",
   "pygments_lexer": "ipython3",
   "version": "3.10.8"
  }
 },
 "nbformat": 4,
 "nbformat_minor": 5
}
