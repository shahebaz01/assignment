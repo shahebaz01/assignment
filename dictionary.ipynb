{
 "cells": [
  {
   "cell_type": "code",
   "execution_count": null,
   "id": "b88d1e4c-136c-4e7b-b240-e0700ae6d2de",
   "metadata": {},
   "outputs": [],
   "source": [
    "d = {}"
   ]
  },
  {
   "cell_type": "code",
   "execution_count": null,
   "id": "d2b3c283-afe8-46dd-a45b-eb0c5dbf7a56",
   "metadata": {},
   "outputs": [
    {
     "data": {
      "text/plain": [
       "dict"
      ]
     },
     "execution_count": 2,
     "metadata": {},
     "output_type": "execute_result"
    }
   ],
   "source": [
    "type(d)"
   ]
  },
  {
   "cell_type": "code",
   "execution_count": null,
   "id": "336a5ab9-1b10-4f6e-a314-f32485c54291",
   "metadata": {},
   "outputs": [],
   "source": [
    "d1 = {\"key\" : \"shbs\" }"
   ]
  },
  {
   "cell_type": "code",
   "execution_count": null,
   "id": "2d2a3141-5cce-4537-b9fc-e3b0b96b34ef",
   "metadata": {},
   "outputs": [
    {
     "data": {
      "text/plain": [
       "{'key': 'shbs'}"
      ]
     },
     "execution_count": 4,
     "metadata": {},
     "output_type": "execute_result"
    }
   ],
   "source": [
    "d1"
   ]
  },
  {
   "cell_type": "code",
   "execution_count": null,
   "id": "94cbe6a4-cc35-499e-aaf1-bc5bef5672f6",
   "metadata": {},
   "outputs": [],
   "source": [
    "d2 = {\"name\":\"shahebaz\", \"mail id\":\"shahebazsaudagar5@gmail.com\",\"mob\":\"9545486778\"}"
   ]
  },
  {
   "cell_type": "code",
   "execution_count": null,
   "id": "09e28e84-0fe5-4e9e-bc1a-5666c3d47a35",
   "metadata": {},
   "outputs": [
    {
     "data": {
      "text/plain": [
       "{'name': 'shahebaz',\n",
       " 'mail id': 'shahebazsaudagar5@gmail.com',\n",
       " 'mob': '9545486778'}"
      ]
     },
     "execution_count": 6,
     "metadata": {},
     "output_type": "execute_result"
    }
   ],
   "source": [
    "d2"
   ]
  },
  {
   "cell_type": "code",
   "execution_count": null,
   "id": "2c9b84d3-3b88-4899-913e-44543ace5050",
   "metadata": {},
   "outputs": [
    {
     "ename": "NameError",
     "evalue": "name 'd3' is not defined",
     "output_type": "error",
     "traceback": [
      "\u001b[0;31m---------------------------------------------------------------------------\u001b[0m",
      "\u001b[0;31mNameError\u001b[0m                                 Traceback (most recent call last)",
      "Cell \u001b[0;32mIn[7], line 1\u001b[0m\n\u001b[0;32m----> 1\u001b[0m \u001b[43md3\u001b[49m[\u001b[38;5;241m234\u001b[39m]\n",
      "\u001b[0;31mNameError\u001b[0m: name 'd3' is not defined"
     ]
    }
   ],
   "source": [
    "d3[234]"
   ]
  },
  {
   "cell_type": "code",
   "execution_count": null,
   "id": "5d940bcf-f7ba-4bdb-8fa2-2de7c128e22b",
   "metadata": {},
   "outputs": [],
   "source": [
    "d3[True]"
   ]
  },
  {
   "cell_type": "code",
   "execution_count": null,
   "id": "ec4d78ff-1e78-4c5f-9b9d-2d807d5f6bb6",
   "metadata": {},
   "outputs": [],
   "source": [
    "d3[1]"
   ]
  },
  {
   "cell_type": "code",
   "execution_count": null,
   "id": "28995206-29a6-45b0-b8be-ff01f360fcc5",
   "metadata": {},
   "outputs": [],
   "source": [
    "d4 = {'name':'shbs','mail id':'shahebaz5@gmail', 'name':'shahebaz'}"
   ]
  },
  {
   "cell_type": "code",
   "execution_count": null,
   "id": "38ceeec1-dc1c-4401-a901-b9ede58a7741",
   "metadata": {},
   "outputs": [],
   "source": [
    "d4[\"name\"]"
   ]
  },
  {
   "cell_type": "code",
   "execution_count": null,
   "id": "b795e343-814f-4cde-8c9f-9941b32813b5",
   "metadata": {},
   "outputs": [],
   "source": [
    "d5 = {'company':'pwskills','courses':['data science','data analytics','web dev']}"
   ]
  },
  {
   "cell_type": "code",
   "execution_count": null,
   "id": "202430cd-b749-426f-bb2a-d37ada3c0287",
   "metadata": {},
   "outputs": [],
   "source": [
    "d5"
   ]
  },
  {
   "cell_type": "code",
   "execution_count": null,
   "id": "219e966b-fc15-4ef1-9dc3-a1690deaf3eb",
   "metadata": {},
   "outputs": [],
   "source": [
    "d5['courses']"
   ]
  },
  {
   "cell_type": "code",
   "execution_count": null,
   "id": "61b01230-6a94-4a92-a75c-20e1b6be772e",
   "metadata": {},
   "outputs": [],
   "source": [
    "d5['courses'][1]"
   ]
  },
  {
   "cell_type": "code",
   "execution_count": null,
   "id": "9cf9c41f-15b8-4eae-bbdd-f3dfaffa5a5a",
   "metadata": {},
   "outputs": [],
   "source": [
    "d6 = {'number' : [12,13,14,1], 'assignments' : (1,2,3,4,5,6), 'launch date':{12,13,15,16}, 'class_timing': {'web dev':'8pm', 'design':'7pm'} }"
   ]
  },
  {
   "cell_type": "code",
   "execution_count": null,
   "id": "03f326fe-2b24-4b0b-a8cf-6cbcd6a06a2f",
   "metadata": {},
   "outputs": [],
   "source": [
    "d6"
   ]
  },
  {
   "cell_type": "code",
   "execution_count": null,
   "id": "bea7207b-688f-458d-a770-8b3df5b2f93c",
   "metadata": {},
   "outputs": [],
   "source": [
    "d6['class_timing']['design']"
   ]
  },
  {
   "cell_type": "code",
   "execution_count": null,
   "id": "97a528e4-ac2b-4f9a-8774-8daac38d5a02",
   "metadata": {},
   "outputs": [],
   "source": [
    "d6['mentor'] = ['sudhanshu','haidar','krish']"
   ]
  },
  {
   "cell_type": "code",
   "execution_count": null,
   "id": "dbe3717d-6a83-4438-984c-4849d8610e9f",
   "metadata": {},
   "outputs": [],
   "source": [
    "d6"
   ]
  },
  {
   "cell_type": "code",
   "execution_count": null,
   "id": "259933fc-b4a4-4baa-ae46-84b5c043c29b",
   "metadata": {},
   "outputs": [],
   "source": [
    "del d6['number']"
   ]
  },
  {
   "cell_type": "code",
   "execution_count": null,
   "id": "3b044289-c95e-45a4-8ea3-cfe562aa608e",
   "metadata": {},
   "outputs": [],
   "source": [
    "d6"
   ]
  },
  {
   "cell_type": "code",
   "execution_count": null,
   "id": "33e33c66-5fa1-4b16-b47e-ecffd841b85d",
   "metadata": {},
   "outputs": [],
   "source": [
    "list(d6.keys())"
   ]
  },
  {
   "cell_type": "code",
   "execution_count": null,
   "id": "423f74fc-8f69-4212-92de-3f83a50c8ef9",
   "metadata": {},
   "outputs": [],
   "source": [
    "list(d6.values())"
   ]
  },
  {
   "cell_type": "code",
   "execution_count": null,
   "id": "436f2932-4322-4894-b588-99e4c021e05e",
   "metadata": {},
   "outputs": [],
   "source": [
    "d6.items()"
   ]
  },
  {
   "cell_type": "code",
   "execution_count": null,
   "id": "1336eabe-f675-4fa0-bb21-e55e12d7f16f",
   "metadata": {},
   "outputs": [],
   "source": [
    "list(d6.items())"
   ]
  },
  {
   "cell_type": "code",
   "execution_count": null,
   "id": "cea6dfbc-dbec-41a7-a870-3a9b5b470a78",
   "metadata": {},
   "outputs": [],
   "source": [
    "d6.pop('assignments')"
   ]
  },
  {
   "cell_type": "code",
   "execution_count": null,
   "id": "1d8efff7-71a0-45aa-8126-068d417fb255",
   "metadata": {},
   "outputs": [],
   "source": [
    "d6"
   ]
  },
  {
   "cell_type": "code",
   "execution_count": 1,
   "id": "560ba52a-f016-4e01-b3fd-042dcb018014",
   "metadata": {},
   "outputs": [],
   "source": [
    "marks = 80\n",
    "if marks >= 80 :\n",
    "    print(\"you will be a part of A0 batch \")\n",
    "elif marks >= 60 and marks <80 :\n",
    "    print(\"you will be part of A1 batch\")\n",
    "elif marks >= 40 and marks<60 :\n",
    "    print(\"you will be part of A2 batch\")\n",
    "else :\n",
    "    print(\"you will be part of A3 batch\")"
   ]
  },
  {
   "cell_type": "code",
   "execution_count": null,
   "id": "6ae818f8-7edc-4284-ae24-762720267bbc",
   "metadata": {},
   "outputs": [],
   "source": []
  },
  {
   "cell_type": "code",
   "execution_count": 9,
   "id": "0cd35db3-4438-4cfa-a626-5885f71433ea",
   "metadata": {},
   "outputs": [
    {
     "name": "stdin",
     "output_type": "stream",
     "text": [
      "enter your marks 80\n"
     ]
    },
    {
     "name": "stdout",
     "output_type": "stream",
     "text": [
      "you will be a part of A0 batch \n"
     ]
    }
   ],
   "source": [
    "marks = int(input(\"enter your marks\"))\n",
    "if marks >= 80 :\n",
    "    print(\"you will be a part of A0 batch \")\n",
    "elif marks >= 60 and marks <80 :\n",
    "    print(\"you will be part of A1 batch\")\n",
    "elif marks >= 40 and marks<60 :\n",
    "    print(\"you will be part of A2 batch\")\n",
    "else :\n",
    "    print(\"you will be part of A3 batch\")"
   ]
  },
  {
   "cell_type": "code",
   "execution_count": 2,
   "id": "f71b7e95-ada5-43c9-b2aa-d17231ec10c4",
   "metadata": {},
   "outputs": [
    {
     "name": "stdin",
     "output_type": "stream",
     "text": [
      "enter your marks 45\n"
     ]
    }
   ],
   "source": [
    "marks = int(input(\"enter your marks\"))"
   ]
  },
  {
   "cell_type": "code",
   "execution_count": 5,
   "id": "5a22526b-17eb-4ea0-84d0-00090aba9560",
   "metadata": {},
   "outputs": [
    {
     "data": {
      "text/plain": [
       "'45'"
      ]
     },
     "execution_count": 5,
     "metadata": {},
     "output_type": "execute_result"
    }
   ],
   "source": [
    "marks "
   ]
  },
  {
   "cell_type": "code",
   "execution_count": 7,
   "id": "1381ac33-1e15-4ec9-b8df-3fea114e550a",
   "metadata": {},
   "outputs": [
    {
     "data": {
      "text/plain": [
       "10"
      ]
     },
     "execution_count": 7,
     "metadata": {},
     "output_type": "execute_result"
    }
   ],
   "source": [
    "marks"
   ]
  },
  {
   "cell_type": "code",
   "execution_count": 8,
   "id": "be86e0e0-4714-4e72-8c6e-8966e7175d55",
   "metadata": {},
   "outputs": [
    {
     "data": {
      "text/plain": [
       "int"
      ]
     },
     "execution_count": 8,
     "metadata": {},
     "output_type": "execute_result"
    }
   ],
   "source": [
    "type(marks)"
   ]
  },
  {
   "cell_type": "code",
   "execution_count": 15,
   "id": "118dfe45-85c7-445d-921a-5fe64a006165",
   "metadata": {},
   "outputs": [
    {
     "name": "stdin",
     "output_type": "stream",
     "text": [
      "enter your price here 5000\n"
     ]
    },
    {
     "name": "stdout",
     "output_type": "stream",
     "text": [
      "i will not purchase\n"
     ]
    }
   ],
   "source": [
    "price = int(input(\"enter your price here\"))\n",
    "if price > 1000:\n",
    "    print(\"i will not purchase\")\n",
    "else :\n",
    "    print(\"i will purchase\")"
   ]
  },
  {
   "cell_type": "code",
   "execution_count": 16,
   "id": "bceb5b24-c444-4996-aa2c-8ba449678e1f",
   "metadata": {},
   "outputs": [
    {
     "name": "stdin",
     "output_type": "stream",
     "text": [
      "enter your price here 200\n"
     ]
    },
    {
     "name": "stdout",
     "output_type": "stream",
     "text": [
      "i will purchase\n"
     ]
    }
   ],
   "source": [
    "price = int(input(\"enter your price here\"))\n",
    "if price > 1000:\n",
    "    print(\"i will not purchase\")\n",
    "else :\n",
    "    print(\"i will purchase\")"
   ]
  },
  {
   "cell_type": "code",
   "execution_count": null,
   "id": "e0ce3572-cb40-43e6-9143-e0f59726a811",
   "metadata": {},
   "outputs": [],
   "source": []
  },
  {
   "cell_type": "code",
   "execution_count": 19,
   "id": "0a0a55df-cac9-4019-a339-50dea80b8cdc",
   "metadata": {},
   "outputs": [
    {
     "name": "stdin",
     "output_type": "stream",
     "text": [
      "enter your price here 7000\n"
     ]
    },
    {
     "name": "stdout",
     "output_type": "stream",
     "text": [
      "i will not purchase\n",
      "this is too much\n"
     ]
    }
   ],
   "source": [
    "price = int(input(\"enter your price here\"))\n",
    "if price > 1000:\n",
    "    print(\"i will not purchase\")\n",
    "if price > 5000:\n",
    "    print(\"this is too much\")"
   ]
  },
  {
   "cell_type": "code",
   "execution_count": null,
   "id": "fc1f6658-22bb-4caf-a16e-9e8133a0ee59",
   "metadata": {},
   "outputs": [],
   "source": []
  },
  {
   "cell_type": "code",
   "execution_count": 21,
   "id": "0f707144-90e8-436f-ba85-ecfb34dea1ef",
   "metadata": {},
   "outputs": [
    {
     "name": "stdin",
     "output_type": "stream",
     "text": [
      "enter your price here 1500\n"
     ]
    },
    {
     "name": "stdout",
     "output_type": "stream",
     "text": [
      "i will not purchase\n",
      "its ok\n"
     ]
    }
   ],
   "source": [
    "price = int(input(\"enter your price here\"))\n",
    "if price > 1000:\n",
    "    print(\"i will not purchase\")\n",
    "if price > 5000:\n",
    "    print(\"this is too much\")\n",
    "elif price < 2000:\n",
    "        print(\"its ok\")"
   ]
  },
  {
   "cell_type": "code",
   "execution_count": 106,
   "id": "37d349d6-275c-4b93-ae3e-4fde84360c87",
   "metadata": {},
   "outputs": [],
   "source": [
    "l = [ 1,2,3,4,5,6,7,8 ]"
   ]
  },
  {
   "cell_type": "code",
   "execution_count": 111,
   "id": "57d0e206-0e97-4a9d-a2ba-9c925f64d6c9",
   "metadata": {},
   "outputs": [
    {
     "data": {
      "text/plain": [
       "2"
      ]
     },
     "execution_count": 111,
     "metadata": {},
     "output_type": "execute_result"
    }
   ],
   "source": [
    "l[0] +1"
   ]
  },
  {
   "cell_type": "code",
   "execution_count": 112,
   "id": "a2405b64-36f2-47c0-8788-e51fb55e8e72",
   "metadata": {},
   "outputs": [],
   "source": [
    "l1 = []"
   ]
  },
  {
   "cell_type": "code",
   "execution_count": 113,
   "id": "7e941c0d-87ee-4676-8af8-097a0fdabd14",
   "metadata": {},
   "outputs": [],
   "source": [
    "l1.append(l[0]+1)"
   ]
  },
  {
   "cell_type": "code",
   "execution_count": 114,
   "id": "46c6a4d1-5e05-4448-85e8-7bd46adf489b",
   "metadata": {},
   "outputs": [
    {
     "data": {
      "text/plain": [
       "[2]"
      ]
     },
     "execution_count": 114,
     "metadata": {},
     "output_type": "execute_result"
    }
   ],
   "source": [
    "l1"
   ]
  },
  {
   "cell_type": "code",
   "execution_count": 115,
   "id": "f3086156-52d8-42e0-b0b5-9484ed388477",
   "metadata": {},
   "outputs": [],
   "source": [
    "l = [ 1,2,3,4,5,6,7,8 ]"
   ]
  },
  {
   "cell_type": "code",
   "execution_count": 117,
   "id": "874f90d9-ef66-4dd9-9477-3f9d523f897d",
   "metadata": {},
   "outputs": [
    {
     "name": "stdout",
     "output_type": "stream",
     "text": [
      "1\n",
      "2\n",
      "3\n",
      "4\n",
      "5\n",
      "6\n",
      "7\n",
      "8\n"
     ]
    },
    {
     "data": {
      "text/plain": [
       "[2, 2, 3, 4, 5, 6, 7, 8, 9]"
      ]
     },
     "execution_count": 117,
     "metadata": {},
     "output_type": "execute_result"
    }
   ],
   "source": [
    "for i in l:\n",
    "    print(i)\n",
    "    l1.append(i+1)\n",
    "l1"
   ]
  },
  {
   "cell_type": "code",
   "execution_count": 118,
   "id": "7d418a8b-46ad-4ea2-8080-5f6d0f85b6d8",
   "metadata": {},
   "outputs": [
    {
     "data": {
      "text/plain": [
       "[1, 2, 3, 4, 5, 6, 7, 8]"
      ]
     },
     "execution_count": 118,
     "metadata": {},
     "output_type": "execute_result"
    }
   ],
   "source": [
    "l"
   ]
  },
  {
   "cell_type": "code",
   "execution_count": 119,
   "id": "ad26b1d3-e662-4263-9f14-104bceb303d1",
   "metadata": {},
   "outputs": [],
   "source": [
    "l = [ \"shbs\",\"shahebaz\",\"ducati\",\"pwskills\",\"fdc\" ]"
   ]
  },
  {
   "cell_type": "code",
   "execution_count": 124,
   "id": "da8dcefa-5780-45f1-82ef-0212b93dc7b0",
   "metadata": {},
   "outputs": [
    {
     "name": "stdout",
     "output_type": "stream",
     "text": [
      "shbs\n",
      "shahebaz\n",
      "ducati\n",
      "pwskills\n",
      "fdc\n"
     ]
    }
   ],
   "source": [
    "l1 = []\n",
    "for i in l :\n",
    "    print(i)\n",
    "    l1.append(i.upper())"
   ]
  },
  {
   "cell_type": "code",
   "execution_count": 125,
   "id": "20f69599-a6e7-4604-8e6b-d10b8e31e320",
   "metadata": {},
   "outputs": [
    {
     "data": {
      "text/plain": [
       "['SHBS', 'SHAHEBAZ', 'DUCATI', 'PWSKILLS', 'FDC']"
      ]
     },
     "execution_count": 125,
     "metadata": {},
     "output_type": "execute_result"
    }
   ],
   "source": [
    "l1"
   ]
  },
  {
   "cell_type": "code",
   "execution_count": 139,
   "id": "8a57592d-0e17-4503-8c02-cb4431b8b996",
   "metadata": {},
   "outputs": [],
   "source": [
    "l = [1,2,3,4,4, 'sbs', 22.45, 556, 'abc' ]"
   ]
  },
  {
   "cell_type": "code",
   "execution_count": 140,
   "id": "be6c5170-26f3-4b21-8d16-ffae804ac3e6",
   "metadata": {},
   "outputs": [],
   "source": [
    "l1_num = []\n",
    "l2_stg = []\n",
    "for i in l:\n",
    "    if type(i) == int or type(i) == float :\n",
    "        l1_num.append(i)\n",
    "else :\n",
    "    l2_stg.append(i)"
   ]
  },
  {
   "cell_type": "code",
   "execution_count": 141,
   "id": "f4f45265-8450-46d6-be9b-38d599f3ed75",
   "metadata": {},
   "outputs": [
    {
     "data": {
      "text/plain": [
       "[1, 2, 3, 4, 4, 22.45, 556]"
      ]
     },
     "execution_count": 141,
     "metadata": {},
     "output_type": "execute_result"
    }
   ],
   "source": [
    "l1_num"
   ]
  },
  {
   "cell_type": "code",
   "execution_count": 142,
   "id": "2a659bff-474f-4eaf-83b3-7db1c901b1bc",
   "metadata": {},
   "outputs": [
    {
     "data": {
      "text/plain": [
       "['abc']"
      ]
     },
     "execution_count": 142,
     "metadata": {},
     "output_type": "execute_result"
    }
   ],
   "source": [
    "l2_stg"
   ]
  },
  {
   "cell_type": "code",
   "execution_count": null,
   "id": "0f736480-7c9b-4c03-9688-2fa2e66ee938",
   "metadata": {},
   "outputs": [],
   "source": []
  }
 ],
 "metadata": {
  "kernelspec": {
   "display_name": "Python 3 (ipykernel)",
   "language": "python",
   "name": "python3"
  },
  "language_info": {
   "codemirror_mode": {
    "name": "ipython",
    "version": 3
   },
   "file_extension": ".py",
   "mimetype": "text/x-python",
   "name": "python",
   "nbconvert_exporter": "python",
   "pygments_lexer": "ipython3",
   "version": "3.10.8"
  }
 },
 "nbformat": 4,
 "nbformat_minor": 5
}
