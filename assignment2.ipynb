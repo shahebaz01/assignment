{
 "cells": [
  {
   "cell_type": "code",
   "execution_count": 1,
   "id": "fe59394e-5f1d-442a-bd05-0ec5f2dba058",
   "metadata": {},
   "outputs": [],
   "source": [
    "# Question 1"
   ]
  },
  {
   "cell_type": "code",
   "execution_count": 2,
   "id": "af021ed1-a644-4aa7-9d73-faaea3241396",
   "metadata": {},
   "outputs": [],
   "source": [
    "# in python you can comment any line by using '#' in the start of the line or you can use (''') for several lines"
   ]
  },
  {
   "cell_type": "code",
   "execution_count": 3,
   "id": "6bd9df7d-4220-4d15-91aa-138431ea2050",
   "metadata": {},
   "outputs": [],
   "source": [
    "#Question 2"
   ]
  },
  {
   "cell_type": "code",
   "execution_count": 6,
   "id": "7b30e1c1-f457-4d74-b096-c89b5d32488c",
   "metadata": {},
   "outputs": [],
   "source": [
    "#in python a variable is assigned location in a system memory that stores a specific data we simply assign a name to a variable and by using \n",
    " #operators we give value to the name can fill data in it for example (s = 20) here in this s is variable\n",
    "#name that we have assigned and 20 is its value that we have given by using (=) operator\n",
    "#and in python we dont ned to give variable type to the system python automatically gave type to its variables."
   ]
  },
  {
   "cell_type": "code",
   "execution_count": 7,
   "id": "0bc7a040-0ccb-438f-af84-ae647e1a3acf",
   "metadata": {},
   "outputs": [],
   "source": [
    "#Question 3 How do you convert one data type to another in Python?"
   ]
  },
  {
   "cell_type": "code",
   "execution_count": 9,
   "id": "28433e49-abed-4a6d-8671-121ea78def73",
   "metadata": {},
   "outputs": [],
   "source": [
    "#we simply use functions in python to convert data for example"
   ]
  },
  {
   "cell_type": "code",
   "execution_count": 11,
   "id": "c57f4e02-034b-4c94-81c6-d7cb88b161cd",
   "metadata": {},
   "outputs": [],
   "source": [
    "a = 98"
   ]
  },
  {
   "cell_type": "code",
   "execution_count": 12,
   "id": "049270ee-e96d-4c11-b089-871d992cbf8b",
   "metadata": {},
   "outputs": [],
   "source": [
    "b = \"98\""
   ]
  },
  {
   "cell_type": "code",
   "execution_count": 13,
   "id": "4e0f5611-ae76-4f1a-81ce-38d3a6e58cc8",
   "metadata": {},
   "outputs": [
    {
     "data": {
      "text/plain": [
       "int"
      ]
     },
     "execution_count": 13,
     "metadata": {},
     "output_type": "execute_result"
    }
   ],
   "source": [
    "type(a)"
   ]
  },
  {
   "cell_type": "code",
   "execution_count": 14,
   "id": "7b76e334-1f16-49f7-8d5c-1789374dfced",
   "metadata": {},
   "outputs": [
    {
     "data": {
      "text/plain": [
       "str"
      ]
     },
     "execution_count": 14,
     "metadata": {},
     "output_type": "execute_result"
    }
   ],
   "source": [
    "type(b)"
   ]
  },
  {
   "cell_type": "code",
   "execution_count": 15,
   "id": "0e3933db-dc62-4897-b2a6-cc01d79920d1",
   "metadata": {},
   "outputs": [],
   "source": [
    "# 4 How do you write and execute a Python script from the command line"
   ]
  },
  {
   "cell_type": "code",
   "execution_count": 17,
   "id": "e97544fe-ba28-4d81-afee-c22e25ea321c",
   "metadata": {},
   "outputs": [],
   "source": [
    "#first of all we need to create a new notebok in jupyter lab then wwe assign name to it and we save a file by putting (.jpynb) extension."
   ]
  },
  {
   "cell_type": "code",
   "execution_count": 18,
   "id": "b623aa9e-8f50-46a5-b277-f55fa7bd8524",
   "metadata": {},
   "outputs": [],
   "source": [
    "#5 Given a list my_list = [1, 2, 3, 4, 5], write the code to slice the list and obtain the sub-list [2, 3]"
   ]
  },
  {
   "cell_type": "code",
   "execution_count": 19,
   "id": "7d38b15a-4bde-4a82-bdf1-4de7af635c39",
   "metadata": {},
   "outputs": [],
   "source": [
    "my_list = [1,2,3,4,5]"
   ]
  },
  {
   "cell_type": "code",
   "execution_count": 23,
   "id": "5165cf89-8d97-4a1c-a6be-823e6469c3f6",
   "metadata": {},
   "outputs": [
    {
     "data": {
      "text/plain": [
       "[2, 3]"
      ]
     },
     "execution_count": 23,
     "metadata": {},
     "output_type": "execute_result"
    }
   ],
   "source": [
    "my_list[1:3]"
   ]
  },
  {
   "cell_type": "code",
   "execution_count": 24,
   "id": "423503cb-2923-4c64-8743-1a6ea2aa8679",
   "metadata": {},
   "outputs": [],
   "source": [
    "#6 What is a complex number in mathematics, and how is it represented in Python"
   ]
  },
  {
   "cell_type": "code",
   "execution_count": 27,
   "id": "08ab02f2-8a58-4a56-935d-46141c1d3bba",
   "metadata": {},
   "outputs": [],
   "source": [
    "#in mathematics complex number means where one number is real and othr number is imaginary for example 5+2j here 5 is real number and 2j is imaginary \n",
    "#and in python we can use onle J for the imaginory number."
   ]
  },
  {
   "cell_type": "code",
   "execution_count": 28,
   "id": "8d553d78-35c1-4290-9cfb-77af09c66c41",
   "metadata": {},
   "outputs": [],
   "source": [
    "#7 What is the correct way to declare a variable named age and assign the value 25 to it?"
   ]
  },
  {
   "cell_type": "code",
   "execution_count": 29,
   "id": "6bfb45d0-36ff-46f8-ae86-6ad261fbbeb7",
   "metadata": {},
   "outputs": [],
   "source": [
    "age = 25"
   ]
  },
  {
   "cell_type": "code",
   "execution_count": 30,
   "id": "9e6acaa5-fd0f-40ac-806f-084542eb0b19",
   "metadata": {},
   "outputs": [],
   "source": [
    "#here we have given variable name age and assigned 25 value to it by using = opertor"
   ]
  },
  {
   "cell_type": "code",
   "execution_count": 31,
   "id": "d8ef41cd-a4d5-4024-a4da-ef45b49b77f2",
   "metadata": {},
   "outputs": [],
   "source": [
    "#Q8 Declare a variable named price and assign the value 9.99 to it. What data type does this variable\n",
    "#belong to?"
   ]
  },
  {
   "cell_type": "code",
   "execution_count": 32,
   "id": "5df762a5-a94f-437a-bbb5-aca727ddc82e",
   "metadata": {},
   "outputs": [],
   "source": [
    "price = 9.99"
   ]
  },
  {
   "cell_type": "code",
   "execution_count": 33,
   "id": "4a0f7981-1708-48ac-86ed-552fd538ce05",
   "metadata": {},
   "outputs": [
    {
     "data": {
      "text/plain": [
       "float"
      ]
     },
     "execution_count": 33,
     "metadata": {},
     "output_type": "execute_result"
    }
   ],
   "source": [
    "type(price)"
   ]
  },
  {
   "cell_type": "code",
   "execution_count": 34,
   "id": "49d772d7-e5a4-4c73-b139-98e6e4cd2eff",
   "metadata": {},
   "outputs": [],
   "source": [
    "#Q9 Create a variable named name and assign your full name to it as a string. How would you print the\n",
    "#value of this variable?"
   ]
  },
  {
   "cell_type": "code",
   "execution_count": 35,
   "id": "3747bd32-fcff-451e-9ba0-fac1d7ef73f1",
   "metadata": {},
   "outputs": [],
   "source": [
    "name = \"shahebaz saudagar\""
   ]
  },
  {
   "cell_type": "code",
   "execution_count": 36,
   "id": "1f16b63a-338f-48c3-8eb9-8713598407cd",
   "metadata": {},
   "outputs": [
    {
     "data": {
      "text/plain": [
       "str"
      ]
     },
     "execution_count": 36,
     "metadata": {},
     "output_type": "execute_result"
    }
   ],
   "source": [
    "type(name)"
   ]
  },
  {
   "cell_type": "code",
   "execution_count": 37,
   "id": "2ad0e4fc-1f4b-465f-a7f9-c645eabe50c1",
   "metadata": {},
   "outputs": [],
   "source": [
    "#Q10 . Given the string \"Hello, World!\", extract the substring \"World\"."
   ]
  },
  {
   "cell_type": "code",
   "execution_count": 38,
   "id": "6d6a2ba5-5fe9-48cb-94fa-359ba27aa0ea",
   "metadata": {},
   "outputs": [],
   "source": [
    "s = \"Hello, World\""
   ]
  },
  {
   "cell_type": "code",
   "execution_count": 46,
   "id": "057a965f-938b-403c-8d66-8e3b018e6779",
   "metadata": {},
   "outputs": [
    {
     "data": {
      "text/plain": [
       "' World'"
      ]
     },
     "execution_count": 46,
     "metadata": {},
     "output_type": "execute_result"
    }
   ],
   "source": [
    "s[6:12]"
   ]
  },
  {
   "cell_type": "code",
   "execution_count": 47,
   "id": "d62f7503-2549-42e0-8b49-bad7ee96442f",
   "metadata": {},
   "outputs": [],
   "source": [
    "#Q11 . Create a variable named \"is_student\" and assign it a boolean value indicating whether you are\n",
    "#currently a student or not."
   ]
  },
  {
   "cell_type": "code",
   "execution_count": 48,
   "id": "19df1191-6148-4454-935a-d84cff0d14df",
   "metadata": {},
   "outputs": [],
   "source": [
    "is_student = True"
   ]
  },
  {
   "cell_type": "code",
   "execution_count": 49,
   "id": "152d2cc8-d07f-4b1c-a35e-48df369150ea",
   "metadata": {},
   "outputs": [
    {
     "data": {
      "text/plain": [
       "bool"
      ]
     },
     "execution_count": 49,
     "metadata": {},
     "output_type": "execute_result"
    }
   ],
   "source": [
    "type(is_student)"
   ]
  },
  {
   "cell_type": "code",
   "execution_count": null,
   "id": "799563ae-331f-4c77-9f1d-c3cac129f4e5",
   "metadata": {},
   "outputs": [],
   "source": []
  }
 ],
 "metadata": {
  "kernelspec": {
   "display_name": "Python 3 (ipykernel)",
   "language": "python",
   "name": "python3"
  },
  "language_info": {
   "codemirror_mode": {
    "name": "ipython",
    "version": 3
   },
   "file_extension": ".py",
   "mimetype": "text/x-python",
   "name": "python",
   "nbconvert_exporter": "python",
   "pygments_lexer": "ipython3",
   "version": "3.10.8"
  }
 },
 "nbformat": 4,
 "nbformat_minor": 5
}
