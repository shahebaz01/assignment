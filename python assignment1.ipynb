{
 "cells": [
  {
   "cell_type": "code",
   "execution_count": null,
   "id": "3ba41260-17ef-4fb2-806a-67ea2e5b33d6",
   "metadata": {},
   "outputs": [],
   "source": []
  },
  {
   "cell_type": "code",
   "execution_count": 1,
   "id": "8fcc43ee-cb2b-4997-a8d5-804e9c270ff6",
   "metadata": {},
   "outputs": [],
   "source": [
    "## Q1. Which keyword is used to create a function? Create a function to return a list of odd numbers in the\n",
    "# range of 1 to 25."
   ]
  },
  {
   "cell_type": "code",
   "execution_count": 2,
   "id": "1e8c588f-7b48-4bae-89d7-4b44c76f0c5b",
   "metadata": {},
   "outputs": [],
   "source": [
    "def odd_numbers():\n",
    "    return [x for x in range(1, 26) if x % 2 != 0]\n"
   ]
  },
  {
   "cell_type": "code",
   "execution_count": 3,
   "id": "601d5387-3418-4724-85a6-a8acb4c19dd8",
   "metadata": {},
   "outputs": [
    {
     "data": {
      "text/plain": [
       "[1, 3, 5, 7, 9, 11, 13, 15, 17, 19, 21, 23, 25]"
      ]
     },
     "execution_count": 3,
     "metadata": {},
     "output_type": "execute_result"
    }
   ],
   "source": [
    "odd_numbers()"
   ]
  },
  {
   "cell_type": "code",
   "execution_count": 4,
   "id": "f0df0cda-710c-4b2b-a890-7f8a221cb0fc",
   "metadata": {},
   "outputs": [],
   "source": [
    "##Q2. Why *args and **kwargs is used in some functions? Create a function each for *args and **kwargs\n",
    "#to demonstrate their use."
   ]
  },
  {
   "cell_type": "code",
   "execution_count": 5,
   "id": "399a6284-c08f-45dc-aaf3-75cfc3d28811",
   "metadata": {},
   "outputs": [],
   "source": [
    "## *args **kwargs are used to get 'N' number of arguments you can pass in the function"
   ]
  },
  {
   "cell_type": "code",
   "execution_count": 7,
   "id": "57077d57-1052-4f95-ab8d-99dcd04a23a3",
   "metadata": {},
   "outputs": [],
   "source": [
    "def test1(*args, a) :\n",
    "    return args, a "
   ]
  },
  {
   "cell_type": "code",
   "execution_count": 8,
   "id": "068fe769-7796-457a-a08a-e8358ddf3143",
   "metadata": {},
   "outputs": [
    {
     "data": {
      "text/plain": [
       "((2, 3, 4), 25)"
      ]
     },
     "execution_count": 8,
     "metadata": {},
     "output_type": "execute_result"
    }
   ],
   "source": [
    "test1(2,3,4, a = 25)"
   ]
  },
  {
   "cell_type": "code",
   "execution_count": 9,
   "id": "4db5f2e6-a89b-420a-899c-2bd13d40fc4a",
   "metadata": {},
   "outputs": [],
   "source": [
    "def test15(**kwargs):\n",
    "    return kwargs"
   ]
  },
  {
   "cell_type": "code",
   "execution_count": 10,
   "id": "8a2b65d3-2a92-45ef-a370-1f28005ed361",
   "metadata": {},
   "outputs": [],
   "source": [
    "#Q3What is an iterator in python? Name the method used to initialise the iterator object and the method\n",
    "#used for iteration. Use these methods to print the first five elements of the given list [2, 4, 6, 8, 10, 12, 14,\n",
    "#16, 18, 20]."
   ]
  },
  {
   "cell_type": "code",
   "execution_count": 11,
   "id": "6a600e0f-5cb7-4748-a305-43e7714d3844",
   "metadata": {},
   "outputs": [],
   "source": [
    "#iterator is an object that can be iterated"
   ]
  },
  {
   "cell_type": "code",
   "execution_count": 12,
   "id": "af7eedef-dd7b-4805-aee3-762097187fbf",
   "metadata": {},
   "outputs": [],
   "source": [
    "#iter() is method used to initialise the iterator object & next() method\n",
    "#used for iteration."
   ]
  },
  {
   "cell_type": "code",
   "execution_count": 13,
   "id": "794dfb9b-cda1-4c0c-b3c2-793ee3d9c56e",
   "metadata": {},
   "outputs": [],
   "source": [
    "l = [2,4,6,8,10,12,14,16,18,20]"
   ]
  },
  {
   "cell_type": "code",
   "execution_count": 16,
   "id": "c0f0d83b-810b-4722-a6b0-ad1a8de033e3",
   "metadata": {},
   "outputs": [],
   "source": [
    "l1 = iter(l)"
   ]
  },
  {
   "cell_type": "code",
   "execution_count": 18,
   "id": "8cbd4726-988f-4ee2-a629-169a0c2097a9",
   "metadata": {},
   "outputs": [
    {
     "data": {
      "text/plain": [
       "2"
      ]
     },
     "execution_count": 18,
     "metadata": {},
     "output_type": "execute_result"
    }
   ],
   "source": [
    "next(l1)"
   ]
  },
  {
   "cell_type": "code",
   "execution_count": 20,
   "id": "813527eb-7fd5-4229-9c64-1cd23e9a7074",
   "metadata": {},
   "outputs": [
    {
     "data": {
      "text/plain": [
       "4"
      ]
     },
     "execution_count": 20,
     "metadata": {},
     "output_type": "execute_result"
    }
   ],
   "source": [
    "next(l1)"
   ]
  },
  {
   "cell_type": "code",
   "execution_count": 21,
   "id": "a1198fbe-e1de-4df5-8fea-700cea86fbcd",
   "metadata": {},
   "outputs": [
    {
     "data": {
      "text/plain": [
       "6"
      ]
     },
     "execution_count": 21,
     "metadata": {},
     "output_type": "execute_result"
    }
   ],
   "source": [
    "next(l1)"
   ]
  },
  {
   "cell_type": "code",
   "execution_count": 22,
   "id": "9a4680dd-90a5-4abc-a672-8ca383dd9f72",
   "metadata": {},
   "outputs": [
    {
     "data": {
      "text/plain": [
       "8"
      ]
     },
     "execution_count": 22,
     "metadata": {},
     "output_type": "execute_result"
    }
   ],
   "source": [
    "next(l1)"
   ]
  },
  {
   "cell_type": "code",
   "execution_count": 23,
   "id": "42bc09c0-4ffa-406b-96fd-c41a95efb525",
   "metadata": {},
   "outputs": [
    {
     "data": {
      "text/plain": [
       "10"
      ]
     },
     "execution_count": 23,
     "metadata": {},
     "output_type": "execute_result"
    }
   ],
   "source": [
    "next(l1)"
   ]
  },
  {
   "cell_type": "code",
   "execution_count": 24,
   "id": "5f00b49b-4a45-4505-a57e-6cdd88aada8c",
   "metadata": {},
   "outputs": [],
   "source": [
    "#Q4 What is a generator function in python? Why yield keyword is used? Give an example of a generator\n",
    "#function."
   ]
  },
  {
   "cell_type": "code",
   "execution_count": 25,
   "id": "8de09528-aca3-4362-99de-0faad9c11bd6",
   "metadata": {},
   "outputs": [],
   "source": [
    "#generator function is a function that generates outcomes continuously without storing in the system memory"
   ]
  },
  {
   "cell_type": "code",
   "execution_count": 26,
   "id": "f57c37d8-7e72-4ba6-93ac-e786a2fd3ba6",
   "metadata": {},
   "outputs": [],
   "source": [
    "#yield is a reserved keyword that gives the geneator value"
   ]
  },
  {
   "cell_type": "code",
   "execution_count": 27,
   "id": "a3021417-f0f9-4aa1-90fb-9492c2608c4a",
   "metadata": {},
   "outputs": [],
   "source": [
    "def test_fib1():\n",
    "    a,b = 0,1\n",
    "    while True:\n",
    "        yield a\n",
    "        a, b = b, a+b"
   ]
  },
  {
   "cell_type": "code",
   "execution_count": 28,
   "id": "5879ae38-22a2-42b1-a8b4-501311f535df",
   "metadata": {},
   "outputs": [],
   "source": [
    "fib = test_fib1()"
   ]
  },
  {
   "cell_type": "code",
   "execution_count": 29,
   "id": "00cc6666-7480-4e93-9194-31fd769b4f64",
   "metadata": {},
   "outputs": [
    {
     "name": "stdout",
     "output_type": "stream",
     "text": [
      "0\n",
      "1\n",
      "1\n",
      "2\n",
      "3\n",
      "5\n",
      "8\n",
      "13\n",
      "21\n",
      "34\n"
     ]
    }
   ],
   "source": [
    "for i in range(10):\n",
    "    print(next(fib))"
   ]
  },
  {
   "cell_type": "code",
   "execution_count": 36,
   "id": "0c78867b-fa10-4954-9ab4-2973aaf705c5",
   "metadata": {},
   "outputs": [],
   "source": [
    "def prime(n):\n",
    "    for n in range(2, n):\n",
    "        for i in range(2, n):\n",
    "            if n % i == 0:\n",
    "                break\n",
    "        else:\n",
    "            yield n"
   ]
  },
  {
   "cell_type": "code",
   "execution_count": 34,
   "id": "38cafdf8-0801-4e24-ac0f-d5f048f4716b",
   "metadata": {},
   "outputs": [
    {
     "name": "stdout",
     "output_type": "stream",
     "text": [
      "2\n",
      "3\n",
      "5\n",
      "7\n",
      "11\n",
      "13\n",
      "17\n",
      "19\n",
      "23\n",
      "29\n",
      "31\n",
      "37\n",
      "41\n",
      "43\n",
      "47\n",
      "53\n",
      "59\n",
      "61\n",
      "67\n",
      "71\n"
     ]
    }
   ],
   "source": [
    "prime_numbers = prime(1000)\n",
    "for i in range(20):\n",
    "    print(next(prime_numbers))"
   ]
  },
  {
   "cell_type": "code",
   "execution_count": 37,
   "id": "c4993ff7-bfc7-4d8b-b489-370905d9678f",
   "metadata": {},
   "outputs": [],
   "source": [
    "#Q6 Write a python program to print the first 10 Fibonacci numbers using a while loop."
   ]
  },
  {
   "cell_type": "code",
   "execution_count": 40,
   "id": "76820724-9424-483f-9436-5f12150a30b2",
   "metadata": {},
   "outputs": [],
   "source": [
    "def test_fib2():\n",
    "    a,b = 0,1\n",
    "    while True:\n",
    "        yield a\n",
    "        a, b = b, a+b"
   ]
  },
  {
   "cell_type": "code",
   "execution_count": 41,
   "id": "9eaec3d3-60ec-4fa2-bcca-483e29429a37",
   "metadata": {},
   "outputs": [],
   "source": [
    "fib = test_fib2()"
   ]
  },
  {
   "cell_type": "code",
   "execution_count": 42,
   "id": "ad4d825b-3d1d-499d-93a0-399582bcbe8c",
   "metadata": {},
   "outputs": [
    {
     "name": "stdout",
     "output_type": "stream",
     "text": [
      "0\n",
      "1\n",
      "1\n",
      "2\n",
      "3\n",
      "5\n",
      "8\n",
      "13\n",
      "21\n",
      "34\n"
     ]
    }
   ],
   "source": [
    "for i in range(10):\n",
    "    print(next(fib))"
   ]
  },
  {
   "cell_type": "code",
   "execution_count": 43,
   "id": "0fa7779e-0a1b-418e-bb29-3ac1177cf998",
   "metadata": {},
   "outputs": [],
   "source": [
    "#Q7. Write a List Comprehension to iterate through the given string: ‘pwskills’.\n",
    "#Expected output: ['p', 'w', 's', 'k', 'i', 'l', 'l', 's']"
   ]
  },
  {
   "cell_type": "code",
   "execution_count": 51,
   "id": "4754f1c7-d6a9-4d2a-87ff-5d300580878e",
   "metadata": {},
   "outputs": [],
   "source": [
    "l = [\"pwskills\"]"
   ]
  },
  {
   "cell_type": "code",
   "execution_count": 59,
   "id": "916f7b16-242d-417a-825a-1bcb145dd7be",
   "metadata": {},
   "outputs": [],
   "source": [
    "l1 = iter(l)"
   ]
  },
  {
   "cell_type": "code",
   "execution_count": 62,
   "id": "3e34c288-1180-4034-90ca-c0d599402d7e",
   "metadata": {},
   "outputs": [
    {
     "name": "stdout",
     "output_type": "stream",
     "text": [
      "['p', 'w', 's', 'k', 'i', 'l', 'l', 's']\n"
     ]
    }
   ],
   "source": [
    "print(result)"
   ]
  },
  {
   "cell_type": "code",
   "execution_count": null,
   "id": "ce30eedd-7b8f-42ff-9e77-058ba00e083f",
   "metadata": {},
   "outputs": [],
   "source": [
    "#Q8. Write a python program to check whether a given number is Palindrome or not using a while loop."
   ]
  },
  {
   "cell_type": "code",
   "execution_count": 66,
   "id": "7c88e0f7-b8ad-4d4b-b676-073bbd748843",
   "metadata": {},
   "outputs": [
    {
     "name": "stdin",
     "output_type": "stream",
     "text": [
      "Enter number 121\n"
     ]
    },
    {
     "name": "stdout",
     "output_type": "stream",
     "text": [
      "The number is a palindrome\n"
     ]
    }
   ],
   "source": [
    "n=int(input(\"Enter number\"))\n",
    "temp=n\n",
    "rev=0\n",
    "while(n>0):\n",
    "    dig=n%10\n",
    "    rev=rev*10+dig\n",
    "    n=n//10\n",
    "if(temp==rev):\n",
    "    print(\"The number is a palindrome\")\n",
    "else:\n",
    "    print(\"The number isn't a palindrome\")"
   ]
  },
  {
   "cell_type": "code",
   "execution_count": 1,
   "id": "28abf486-12b9-47a5-a7d1-abc5f84ffb5a",
   "metadata": {},
   "outputs": [],
   "source": [
    "def odd_numbers():\n",
    "    return [x for x in range(1, 100) if x % 2 != 0]"
   ]
  },
  {
   "cell_type": "code",
   "execution_count": 2,
   "id": "94098b08-33cb-4195-8f0e-30d48a10bf5d",
   "metadata": {},
   "outputs": [
    {
     "data": {
      "text/plain": [
       "[1,\n",
       " 3,\n",
       " 5,\n",
       " 7,\n",
       " 9,\n",
       " 11,\n",
       " 13,\n",
       " 15,\n",
       " 17,\n",
       " 19,\n",
       " 21,\n",
       " 23,\n",
       " 25,\n",
       " 27,\n",
       " 29,\n",
       " 31,\n",
       " 33,\n",
       " 35,\n",
       " 37,\n",
       " 39,\n",
       " 41,\n",
       " 43,\n",
       " 45,\n",
       " 47,\n",
       " 49,\n",
       " 51,\n",
       " 53,\n",
       " 55,\n",
       " 57,\n",
       " 59,\n",
       " 61,\n",
       " 63,\n",
       " 65,\n",
       " 67,\n",
       " 69,\n",
       " 71,\n",
       " 73,\n",
       " 75,\n",
       " 77,\n",
       " 79,\n",
       " 81,\n",
       " 83,\n",
       " 85,\n",
       " 87,\n",
       " 89,\n",
       " 91,\n",
       " 93,\n",
       " 95,\n",
       " 97,\n",
       " 99]"
      ]
     },
     "execution_count": 2,
     "metadata": {},
     "output_type": "execute_result"
    }
   ],
   "source": [
    "odd_numbers()"
   ]
  },
  {
   "cell_type": "code",
   "execution_count": null,
   "id": "cd30d8f6-6ee6-4d9e-aa3e-c8ea8ff1f5cf",
   "metadata": {},
   "outputs": [],
   "source": []
  }
 ],
 "metadata": {
  "kernelspec": {
   "display_name": "Python 3 (ipykernel)",
   "language": "python",
   "name": "python3"
  },
  "language_info": {
   "codemirror_mode": {
    "name": "ipython",
    "version": 3
   },
   "file_extension": ".py",
   "mimetype": "text/x-python",
   "name": "python",
   "nbconvert_exporter": "python",
   "pygments_lexer": "ipython3",
   "version": "3.10.8"
  }
 },
 "nbformat": 4,
 "nbformat_minor": 5
}
