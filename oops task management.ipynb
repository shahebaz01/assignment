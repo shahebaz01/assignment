{
 "cells": [
  {
   "cell_type": "code",
   "execution_count": null,
   "id": "32c179a5-a4b4-4d28-a3e2-7eed99485718",
   "metadata": {},
   "outputs": [],
   "source": [
    "#Q1, Create a vehicle class with an init method having instance variables as name_of_vehicle, max_speed\n",
    "#and average_of_vehicle."
   ]
  },
  {
   "cell_type": "code",
   "execution_count": 1,
   "id": "b643fba8-c6f2-42a4-aea3-9635dc8f4fbd",
   "metadata": {},
   "outputs": [],
   "source": [
    "class Vehicle:\n",
    "    def __init__(self, name_of_vehicle, max_speed, average_of_vehicle):\n",
    "        self.name_of_vehicle = name_of_vehicle\n",
    "        self.max_speed = max_speed\n",
    "        self.average_of_vehicle = average_of_vehicle\n"
   ]
  },
  {
   "cell_type": "code",
   "execution_count": 2,
   "id": "f50ce43b-99e1-4267-8ee7-d468514f9949",
   "metadata": {},
   "outputs": [],
   "source": [
    "#Q2. Create a child class car from the vehicle class created in Que 1, which will inherit the vehicle class.\n",
    "#Create a method named seating_capacity which takes capacity as an argument and returns the name of\n",
    "#the vehicle and its seating capacity."
   ]
  },
  {
   "cell_type": "code",
   "execution_count": 6,
   "id": "43568c99-9d75-4df7-9459-57330262e16b",
   "metadata": {},
   "outputs": [],
   "source": [
    "class Car(Vehicle):\n",
    "    def seating_capacity(self, capacity):\n",
    "        return \" skoda has a seating capacity of 20 \"\n"
   ]
  },
  {
   "cell_type": "code",
   "execution_count": 7,
   "id": "e32c43f2-a9d6-4cb4-9ec2-69ecad3a5749",
   "metadata": {},
   "outputs": [],
   "source": [
    "#Q3. What is multiple inheritance? Write a python code to demonstrate multiple inheritance."
   ]
  },
  {
   "cell_type": "code",
   "execution_count": null,
   "id": "d5e9c508-a689-4c8d-8d29-7249972d5acd",
   "metadata": {},
   "outputs": [],
   "source": [
    "#Multiple inheritance is a method in which a class can inherit attributes and methods from more than one parent class. \n",
    "#This allows a class to inherit and combine the functions of multiple classes."
   ]
  },
  {
   "cell_type": "code",
   "execution_count": 8,
   "id": "4a5914a5-464c-411f-9152-cecbcde8cff7",
   "metadata": {},
   "outputs": [],
   "source": [
    "class class1:\n",
    "    def test_class1(self):\n",
    "        return \"this is class1\""
   ]
  },
  {
   "cell_type": "code",
   "execution_count": 9,
   "id": "51b1204d-7044-4d0f-b23b-be3ae99238de",
   "metadata": {},
   "outputs": [],
   "source": [
    "class class2:\n",
    "    def test_class2(self):\n",
    "        return \"this is class2\""
   ]
  },
  {
   "cell_type": "code",
   "execution_count": 10,
   "id": "edb8022f-8569-4f01-bd27-84ad256a52a0",
   "metadata": {},
   "outputs": [],
   "source": [
    "class class3(class1, class2):\n",
    "    pass"
   ]
  },
  {
   "cell_type": "code",
   "execution_count": 11,
   "id": "229e18cd-76e4-408a-b721-80a08cfae02f",
   "metadata": {},
   "outputs": [],
   "source": [
    "obj_class3 = class3()"
   ]
  },
  {
   "cell_type": "code",
   "execution_count": 12,
   "id": "134a2bcf-bb8e-4214-9a89-6d5cc0def5b6",
   "metadata": {},
   "outputs": [
    {
     "data": {
      "text/plain": [
       "'this is class1'"
      ]
     },
     "execution_count": 12,
     "metadata": {},
     "output_type": "execute_result"
    }
   ],
   "source": [
    "obj_class3.test_class1()"
   ]
  },
  {
   "cell_type": "code",
   "execution_count": 13,
   "id": "605fa30f-4428-4588-b053-4303e6b4397d",
   "metadata": {},
   "outputs": [
    {
     "data": {
      "text/plain": [
       "'this is class2'"
      ]
     },
     "execution_count": 13,
     "metadata": {},
     "output_type": "execute_result"
    }
   ],
   "source": [
    "obj_class3.test_class2()"
   ]
  },
  {
   "cell_type": "code",
   "execution_count": 14,
   "id": "ffb0fc3c-babd-47d3-9deb-216b831acfef",
   "metadata": {},
   "outputs": [],
   "source": [
    "#Q4. What are getter and setter in python? Create a class and create a getter and a setter method in this\n",
    "#class."
   ]
  },
  {
   "cell_type": "code",
   "execution_count": 15,
   "id": "0dff0c97-e317-468b-8089-213cebb55f6b",
   "metadata": {},
   "outputs": [],
   "source": [
    "#getters and setters are methods used to control access to the attributes of an object.\n",
    "#A getter method is used to retrieve the value of an attribute, \n",
    "#while a setter method is used to set or update the value of an attribute."
   ]
  },
  {
   "cell_type": "code",
   "execution_count": 16,
   "id": "59204855-09f4-4c4a-87b3-979e6c03b6f5",
   "metadata": {},
   "outputs": [],
   "source": [
    "class car :\n",
    "    def __init__(self, year, make, model, speed) :\n",
    "        self.__year = year\n",
    "        self.__mak = make\n",
    "        self.__model = model\n",
    "        self.__speed = 0\n",
    "        \n",
    "    def set_speed(self,speed) :\n",
    "        self.__speed = 0 if speed < 0 else speed\n",
    "        \n",
    "    def get_speed(self) :\n",
    "        return self.__speed"
   ]
  },
  {
   "cell_type": "code",
   "execution_count": 17,
   "id": "23add227-ab6d-404c-b48c-65cd5e234e8d",
   "metadata": {},
   "outputs": [],
   "source": [
    "c = car(2021, \"tata\", \"harrier\", 20 )"
   ]
  },
  {
   "cell_type": "code",
   "execution_count": 18,
   "id": "83a56c91-6ae7-4b2f-85cb-9993cd845f12",
   "metadata": {},
   "outputs": [
    {
     "data": {
      "text/plain": [
       "2021"
      ]
     },
     "execution_count": 18,
     "metadata": {},
     "output_type": "execute_result"
    }
   ],
   "source": [
    "c._car__year"
   ]
  },
  {
   "cell_type": "code",
   "execution_count": 19,
   "id": "cc7adbb8-97bb-40ec-b806-65f99bb659c6",
   "metadata": {},
   "outputs": [],
   "source": [
    "#Q5.What is method overriding in python? Write a python code to demonstrate method overriding."
   ]
  },
  {
   "cell_type": "code",
   "execution_count": 20,
   "id": "2db12220-b24e-4287-9c28-30cbe2d11d85",
   "metadata": {},
   "outputs": [],
   "source": [
    "#Method overriding is a feature in object-oriented programming languages that allows a subclass \n",
    "#to provide a different implementation of a method that is already defined in its superclass. \n",
    "#This is done by defining a method with the same name and signature in the subclass."
   ]
  },
  {
   "cell_type": "code",
   "execution_count": 25,
   "id": "a7dd8df4-ebf0-4d91-8116-2b190f52e493",
   "metadata": {},
   "outputs": [],
   "source": [
    "class Parent:\n",
    "    def my_method(self):\n",
    "        return \"this is Parent method\"\n",
    "\n",
    "class Child(Parent):\n",
    "    def my_method(self):\n",
    "        return \"this is Child method\""
   ]
  },
  {
   "cell_type": "code",
   "execution_count": 26,
   "id": "62082fe3-0f54-4856-8c8e-307bb33332f3",
   "metadata": {},
   "outputs": [
    {
     "ename": "NameError",
     "evalue": "name 'child' is not defined",
     "output_type": "error",
     "traceback": [
      "\u001b[0;31m---------------------------------------------------------------------------\u001b[0m",
      "\u001b[0;31mNameError\u001b[0m                                 Traceback (most recent call last)",
      "Cell \u001b[0;32mIn[26], line 1\u001b[0m\n\u001b[0;32m----> 1\u001b[0m obj_child \u001b[38;5;241m=\u001b[39m \u001b[43mchild\u001b[49m()\n",
      "\u001b[0;31mNameError\u001b[0m: name 'child' is not defined"
     ]
    }
   ],
   "source": []
  },
  {
   "cell_type": "code",
   "execution_count": null,
   "id": "75d7e466-9723-4e90-ac87-223544ce1217",
   "metadata": {},
   "outputs": [],
   "source": []
  }
 ],
 "metadata": {
  "kernelspec": {
   "display_name": "Python 3 (ipykernel)",
   "language": "python",
   "name": "python3"
  },
  "language_info": {
   "codemirror_mode": {
    "name": "ipython",
    "version": 3
   },
   "file_extension": ".py",
   "mimetype": "text/x-python",
   "name": "python",
   "nbconvert_exporter": "python",
   "pygments_lexer": "ipython3",
   "version": "3.10.8"
  }
 },
 "nbformat": 4,
 "nbformat_minor": 5
}
