{
 "cells": [
  {
   "cell_type": "code",
   "execution_count": 1,
   "id": "406a172c-720f-4af8-a809-e944c8b7433d",
   "metadata": {},
   "outputs": [],
   "source": [
    "#Q1. What is Flask Framework? What are the advantages of Flask Framework?"
   ]
  },
  {
   "cell_type": "code",
   "execution_count": 2,
   "id": "0e4470b1-cb81-4e4b-b795-1e431804f6ba",
   "metadata": {},
   "outputs": [],
   "source": [
    "#Flask is a lightweight Python web framework that allows developers to quickly build and deploy \n",
    "#web applications. Flask is designed to be simple and easy to use, with a small core and a modular \n",
    "#architecture that allows developers to add additional functionality as needed.\n",
    "\n",
    "#Advantages of Flask Framework\n",
    "#Simplicity: Flask is designed to be simple and easy to use, with a small core and a straightforward API.\n",
    "#Flexibility: Flask is a highly flexible framework that allows developers to build web applications in a variety of ways.\n",
    "#Scalability: Flask is a lightweight framework that can handle both small and large-scale web applications.\n",
    "#Community: Flask has a large and active community of developers who contribute to the framework and provide support to other Flask users."
   ]
  },
  {
   "cell_type": "code",
   "execution_count": 3,
   "id": "f0b47bb1-e545-4bb6-bef4-2c2f0c9e452c",
   "metadata": {},
   "outputs": [],
   "source": [
    "#Q3. What is App routing in Flask? Why do we use app routes?"
   ]
  },
  {
   "cell_type": "code",
   "execution_count": 4,
   "id": "f8f48e6f-d701-4768-b14f-0cdace4ba7fc",
   "metadata": {},
   "outputs": [],
   "source": [
    "#In Flask, app routing refers to the process of mapping URLs to specific functions within a Flask application. \n",
    "#This allows developers to define the behavior of their application for different URLs, \n",
    "#and to control how requests to those URLs are handled\n",
    "#App routes are defined using the route() decorator, which is applied to functions within a Flask application.\n",
    "#The route() decorator takes one or more arguments that specify the URL pattern for the route, as well as any additional \n",
    "#options such as the HTTP methods that the route should accept."
   ]
  },
  {
   "cell_type": "code",
   "execution_count": 5,
   "id": "d79fcb4d-052b-495c-96e5-e119e2fbf4dc",
   "metadata": {},
   "outputs": [],
   "source": [
    "#Q4. Create a “/welcome” route to display the welcome message “Welcome to ABC Corporation” and a “/”\n",
    "#route to show the following details:\n",
    "#Company Name: ABC Corporation\n",
    "#Location: India\n",
    "#Contact Detail: 999-999-9999"
   ]
  },
  {
   "cell_type": "code",
   "execution_count": 6,
   "id": "891bd5e9-3c96-439a-97c1-8ac4ba11dade",
   "metadata": {},
   "outputs": [],
   "source": [
    "#from flask import Flask\n",
    "#app = Flask(__name__)\n",
    "\n",
    "#@app.route('/welcome')\n",
    "#def welcome():\n",
    " #   return 'Welcome to ABC Corporation'\n",
    "\n",
    "#@app.route('/')\n",
    "#def index():\n",
    "#    return '''Company Name: ABC Corporation\n",
    "#Location: India\n",
    "#Contact Detail: 999-999-9999'''\n",
    "\n",
    "#if __name__ == '__main__':\n",
    " #   app.run()\n"
   ]
  },
  {
   "cell_type": "code",
   "execution_count": 7,
   "id": "977f4824-8559-473d-a7f6-8a72597adb44",
   "metadata": {},
   "outputs": [],
   "source": [
    "#OUTPUT\n",
    "#[Running] python -u \"/config/workspace/app.py\"\n",
    "# * Serving Flask app 'app'\n",
    "# * Debug mode: off\n",
    "#\u001b[31m\u001b[1mWARNING: This is a development server. Do not use it in a production deployment. Use a production WSGI server instead.\u001b[0m\n",
    "# * Running on http://127.0.0.1:5000\n",
    "#\u001b[33mPress CTRL+C to quit\u001b[0m\n"
   ]
  },
  {
   "cell_type": "code",
   "execution_count": 8,
   "id": "6a5935d1-4cc7-4c4b-99bb-9d5fda9412d4",
   "metadata": {},
   "outputs": [],
   "source": [
    "#Q5. What function is used in Flask for URL Building? Write a Python code to demonstrate the working of the\n",
    "#url_for() function."
   ]
  },
  {
   "cell_type": "code",
   "execution_count": null,
   "id": "f38f4260-4566-4fcf-8c09-3b2dd8c1cd82",
   "metadata": {},
   "outputs": [],
   "source": [
    "#the url_for() function is used for URL building."
   ]
  }
 ],
 "metadata": {
  "kernelspec": {
   "display_name": "Python 3 (ipykernel)",
   "language": "python",
   "name": "python3"
  },
  "language_info": {
   "codemirror_mode": {
    "name": "ipython",
    "version": 3
   },
   "file_extension": ".py",
   "mimetype": "text/x-python",
   "name": "python",
   "nbconvert_exporter": "python",
   "pygments_lexer": "ipython3",
   "version": "3.10.8"
  }
 },
 "nbformat": 4,
 "nbformat_minor": 5
}
