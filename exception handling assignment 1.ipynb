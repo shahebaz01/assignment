{
 "cells": [
  {
   "cell_type": "code",
   "execution_count": null,
   "id": "5b30337e-8607-448a-bc43-edf7ee975db5",
   "metadata": {},
   "outputs": [],
   "source": [
    "# Q1 what is exception in python write difference between exception & syntax error"
   ]
  },
  {
   "cell_type": "code",
   "execution_count": 1,
   "id": "7cf5dd94-50fb-4a1b-a425-a879ae8e400b",
   "metadata": {},
   "outputs": [],
   "source": [
    "# An exception is an event, which occurs during the execution of a program that \n",
    "#disrupts the normal flow of the program's instructions.\n",
    "\n",
    "#syntax error\n",
    "#Syntax errors are mistakes in using the language. "
   ]
  },
  {
   "cell_type": "code",
   "execution_count": 3,
   "id": "c990fd29-56d0-4620-92cd-1f9bcf36922e",
   "metadata": {},
   "outputs": [],
   "source": [
    "#when exception is not handled the interpretor stops the process and process will be crashed"
   ]
  },
  {
   "cell_type": "code",
   "execution_count": 4,
   "id": "6acc6389-0768-461e-8e1e-0fa39fb5d209",
   "metadata": {},
   "outputs": [],
   "source": [
    "x = 5\n",
    "y = 0"
   ]
  },
  {
   "cell_type": "code",
   "execution_count": 5,
   "id": "62366489-9068-4ae6-a0e7-4371c1da3bf0",
   "metadata": {},
   "outputs": [
    {
     "ename": "ZeroDivisionError",
     "evalue": "division by zero",
     "output_type": "error",
     "traceback": [
      "\u001b[0;31m---------------------------------------------------------------------------\u001b[0m",
      "\u001b[0;31mZeroDivisionError\u001b[0m                         Traceback (most recent call last)",
      "Cell \u001b[0;32mIn[5], line 1\u001b[0m\n\u001b[0;32m----> 1\u001b[0m z \u001b[38;5;241m=\u001b[39m \u001b[43mx\u001b[49m\u001b[38;5;241;43m/\u001b[39;49m\u001b[43my\u001b[49m\n",
      "\u001b[0;31mZeroDivisionError\u001b[0m: division by zero"
     ]
    }
   ],
   "source": [
    "z = x/y"
   ]
  },
  {
   "cell_type": "code",
   "execution_count": null,
   "id": "2e929097-de47-41e6-9808-92fdf6e15ad4",
   "metadata": {},
   "outputs": [],
   "source": [
    "#Q3 which python statements are used to catch and handle exception? explain with an example"
   ]
  },
  {
   "cell_type": "code",
   "execution_count": 6,
   "id": "a776ddd7-d336-430b-ae7f-916ef06dd727",
   "metadata": {},
   "outputs": [],
   "source": [
    "# in python we use try & except statements to cath and handle exception"
   ]
  },
  {
   "cell_type": "code",
   "execution_count": 12,
   "id": "c1e88685-d292-4d0f-9a0c-e6313a654a2c",
   "metadata": {},
   "outputs": [
    {
     "name": "stdout",
     "output_type": "stream",
     "text": [
      "Cannot divide by zero!\n"
     ]
    }
   ],
   "source": [
    "try:\n",
    "    x = 5\n",
    "    y = 0\n",
    "    z = x / y\n",
    "except ZeroDivisionError:\n",
    "    print(\"Cannot divide by zero!\")\n"
   ]
  },
  {
   "cell_type": "code",
   "execution_count": null,
   "id": "bd091a84-9789-4263-a4c0-0ba7681a9bc4",
   "metadata": {},
   "outputs": [],
   "source": [
    "#Q4. Explain with an example\n",
    "#1 Try and else\n",
    "#2 finally\n",
    "#3 raise"
   ]
  },
  {
   "cell_type": "code",
   "execution_count": 8,
   "id": "18adc54a-00a9-43e1-ad70-45440ae19e81",
   "metadata": {},
   "outputs": [
    {
     "name": "stdout",
     "output_type": "stream",
     "text": [
      "zero cannot be divided\n",
      "This code will be executed.\n"
     ]
    }
   ],
   "source": [
    "try:\n",
    "    x = 5\n",
    "    y = 0\n",
    "    z = x / y\n",
    "except ZeroDivisionError:\n",
    "    print(\"zero cannot be divided\")\n",
    "else:\n",
    "    print(\"Division successful\")\n",
    "finally:\n",
    "    print(\"This code will be executed.\")\n",
    "\n",
    "#In this example, we are trying to divide a number by zero, which raises a ZeroDivisionError exception. \n",
    "#The try block contains the code that might raise an exception. \n",
    "#If an exception is raised, the code in the except block is executed. In this case, \n",
    "#it prints “Cannot divide by zero!”.\n",
    "#If no exception is raised, the code in the else block is executed. In this case, \n",
    "#it would print “Division successful!”.\n",
    "#The finally block contains code that will always be executed, \n",
    "#regardless of whether an exception was raised or not. \n",
    "#In this case, it prints “This code will always be executed.”.\n"
   ]
  },
  {
   "cell_type": "code",
   "execution_count": 10,
   "id": "ea09b244-bdc9-4ba5-8feb-1bc820f10766",
   "metadata": {},
   "outputs": [
    {
     "ename": "Exception",
     "evalue": "x must be non-positive",
     "output_type": "error",
     "traceback": [
      "\u001b[0;31m---------------------------------------------------------------------------\u001b[0m",
      "\u001b[0;31mException\u001b[0m                                 Traceback (most recent call last)",
      "Cell \u001b[0;32mIn[10], line 3\u001b[0m\n\u001b[1;32m      1\u001b[0m x \u001b[38;5;241m=\u001b[39m \u001b[38;5;241m5\u001b[39m\n\u001b[1;32m      2\u001b[0m \u001b[38;5;28;01mif\u001b[39;00m x \u001b[38;5;241m>\u001b[39m \u001b[38;5;241m0\u001b[39m:\n\u001b[0;32m----> 3\u001b[0m     \u001b[38;5;28;01mraise\u001b[39;00m \u001b[38;5;167;01mException\u001b[39;00m(\u001b[38;5;124m\"\u001b[39m\u001b[38;5;124mx must be non-positive\u001b[39m\u001b[38;5;124m\"\u001b[39m)\n",
      "\u001b[0;31mException\u001b[0m: x must be non-positive"
     ]
    }
   ],
   "source": [
    "x = 5\n",
    "if x > 0:\n",
    "    raise Exception(\"x must be non-positive\")\n",
    "    \n",
    "#In this example, we are checking if the value of x is greater than 0. \n",
    "#If it is, we raise an exception using the raise statement and provide a custom error message."
   ]
  },
  {
   "cell_type": "code",
   "execution_count": 13,
   "id": "84ae38be-e1fb-4e26-b3ac-cd77edd099e0",
   "metadata": {},
   "outputs": [],
   "source": [
    "#Q5 what are custom exceptions in python? why do we need custom exception? explain with an example"
   ]
  },
  {
   "cell_type": "code",
   "execution_count": null,
   "id": "8eca9f38-2cfd-46a4-8768-84dbc1749c5e",
   "metadata": {},
   "outputs": [],
   "source": [
    "#Custom exceptions are user-defined exceptions that you can create \n",
    "#to handle specific error conditions in your code.\n",
    "#They are useful when the built-in exceptions provided by Python do not \n",
    "#adequately describe the error condition you want to handle.\n"
   ]
  },
  {
   "cell_type": "code",
   "execution_count": 14,
   "id": "1d7ab276-cb2a-440f-b3f5-4e3684bdd557",
   "metadata": {},
   "outputs": [
    {
     "name": "stdin",
     "output_type": "stream",
     "text": [
      "Enter a number:  25\n"
     ]
    },
    {
     "name": "stdout",
     "output_type": "stream",
     "text": [
      "This value is too large, try again!\n"
     ]
    },
    {
     "name": "stdin",
     "output_type": "stream",
     "text": [
      "Enter a number:  9\n"
     ]
    },
    {
     "name": "stdout",
     "output_type": "stream",
     "text": [
      "This value is too small, try again!\n"
     ]
    },
    {
     "name": "stdin",
     "output_type": "stream",
     "text": [
      "Enter a number:  20\n"
     ]
    },
    {
     "name": "stdout",
     "output_type": "stream",
     "text": [
      "This value is too large, try again!\n"
     ]
    },
    {
     "name": "stdin",
     "output_type": "stream",
     "text": [
      "Enter a number:  10\n"
     ]
    },
    {
     "name": "stdout",
     "output_type": "stream",
     "text": [
      "Congratulations! You guessed it correctly.\n"
     ]
    }
   ],
   "source": [
    "class ValueTooSmallError(Exception):\n",
    "    pass\n",
    "\n",
    "class ValueTooLargeError(Exception):\n",
    "    pass\n",
    "\n",
    "number = 10\n",
    "\n",
    "while True:\n",
    "    try:\n",
    "        i_num = int(input(\"Enter a number: \"))\n",
    "        if i_num < number:\n",
    "            raise ValueTooSmallError\n",
    "        elif i_num > number:\n",
    "            raise ValueTooLargeError\n",
    "        break\n",
    "    except ValueTooSmallError:\n",
    "        print(\"This value is too small, try again!\")\n",
    "    except ValueTooLargeError:\n",
    "        print(\"This value is too large, try again!\")\n",
    "\n",
    "print(\"Congratulations! You guessed it correctly.\")\n"
   ]
  },
  {
   "cell_type": "code",
   "execution_count": 15,
   "id": "574f1f69-5484-414a-bd4d-30316447dcee",
   "metadata": {},
   "outputs": [],
   "source": [
    "#Q5 create a custom exception class & use this class to create exception"
   ]
  },
  {
   "cell_type": "code",
   "execution_count": null,
   "id": "018cf3f3-48f3-4861-87f4-5f5eabb4ac39",
   "metadata": {},
   "outputs": [],
   "source": []
  }
 ],
 "metadata": {
  "kernelspec": {
   "display_name": "Python 3 (ipykernel)",
   "language": "python",
   "name": "python3"
  },
  "language_info": {
   "codemirror_mode": {
    "name": "ipython",
    "version": 3
   },
   "file_extension": ".py",
   "mimetype": "text/x-python",
   "name": "python",
   "nbconvert_exporter": "python",
   "pygments_lexer": "ipython3",
   "version": "3.10.8"
  }
 },
 "nbformat": 4,
 "nbformat_minor": 5
}
