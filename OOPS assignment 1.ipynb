{
 "cells": [
  {
   "cell_type": "code",
   "execution_count": 1,
   "id": "3308c895-3ae1-4ddc-b797-f786faf4a162",
   "metadata": {},
   "outputs": [],
   "source": [
    "#Q1. Explain Class and Object with respect to Object-Oriented Programming. Give a suitable example."
   ]
  },
  {
   "cell_type": "code",
   "execution_count": 2,
   "id": "0f5aa265-2078-4c77-bd37-5024419d5547",
   "metadata": {},
   "outputs": [],
   "source": [
    "#Classes are user-defined data types that act as the blueprint for individual objects, attributes and methods. \n",
    "#Objects are instances of a class created with specifically defined data.\n",
    "\n",
    "#for example\n",
    "#An object is called an instance of a class. suppose Bicycle is a \n",
    "#class then MountainBicycle , SportsBicycle , TouringBicycle , etc can be considered as objects of the class."
   ]
  },
  {
   "cell_type": "code",
   "execution_count": 3,
   "id": "b0fd597b-8e2a-4fd4-ab00-bcbaa428741d",
   "metadata": {},
   "outputs": [],
   "source": [
    "#Q2. Name the four pillars of OOPs."
   ]
  },
  {
   "cell_type": "code",
   "execution_count": 4,
   "id": "99be4276-2192-455d-ae42-66ff9970fd17",
   "metadata": {},
   "outputs": [],
   "source": [
    "#four pillars of oops are \n",
    "#1 abstraction\n",
    "#2 encapsulation\n",
    "#3 inheritance \n",
    "#4 polymorphism"
   ]
  },
  {
   "cell_type": "code",
   "execution_count": null,
   "id": "59da6a38-95a3-454b-8b06-7a5d17322668",
   "metadata": {},
   "outputs": [],
   "source": [
    "#Q3. Explain why the __init__() function is used. Give a suitable example."
   ]
  },
  {
   "cell_type": "code",
   "execution_count": 5,
   "id": "d1b6de47-7e38-4369-8035-55f29e7c9d42",
   "metadata": {},
   "outputs": [],
   "source": [
    "#The __init__() function is used to assign values to object properties or other operations \n",
    "#that are necessary to do when the object is being created1."
   ]
  },
  {
   "cell_type": "code",
   "execution_count": 6,
   "id": "fb217e45-38d2-46ba-9d4c-a28aefa46fcd",
   "metadata": {},
   "outputs": [],
   "source": [
    "class student_details:\n",
    "    def __init__(self, name, age, sex):\n",
    "        self.name = name\n",
    "        self.age = age\n",
    "        self.sex = sex"
   ]
  },
  {
   "cell_type": "code",
   "execution_count": null,
   "id": "59541bbf-2ea4-4b11-a9ec-dd0214888358",
   "metadata": {},
   "outputs": [],
   "source": [
    "#Q4. Why self is used in OOPs?"
   ]
  },
  {
   "cell_type": "code",
   "execution_count": 7,
   "id": "5708713c-9809-4721-8eb5-f63cfb902668",
   "metadata": {},
   "outputs": [],
   "source": [
    "#self represents the instance of the class. By using the “self”  we can \n",
    "#access the attributes and methods of the class in python. \n",
    "#It binds the attributes with the given arguments."
   ]
  },
  {
   "cell_type": "code",
   "execution_count": 8,
   "id": "1f23414e-d650-4b55-9548-37c37a1d33ef",
   "metadata": {},
   "outputs": [],
   "source": [
    "#Q5. What is inheritance? Give an example for each type of inheritance."
   ]
  },
  {
   "cell_type": "code",
   "execution_count": 9,
   "id": "f4aba655-67ca-4d5d-83ef-3dffa8f4589c",
   "metadata": {},
   "outputs": [],
   "source": [
    "#when we defuine a class that inherits all the properties of other class called as inheritance\n",
    "\n",
    "#Single inheritance: A subclass inherits from a single superclass.\n",
    "#Multiple inheritance: A subclass inherits from multiple superclasses.\n",
    "#Multilevel inheritance: A subclass inherits from a superclass, which in turn inherits from another superclass.\n",
    "#Hierarchical inheritance: Multiple subclasses inherit from a single superclass.\n",
    "#Hybrid inheritance: A combination of two or more types of inheritance."
   ]
  },
  {
   "cell_type": "code",
   "execution_count": null,
   "id": "13e5268a-7fa4-404b-95fc-b60a0a9d3bd0",
   "metadata": {},
   "outputs": [],
   "source": [
    "class car:\n",
    "    def __init__(self, name):\n",
    "        self.name = name\n",
    "\n",
    "    def speak(self):\n",
    "        pass\n",
    "\n",
    "class Dog(Animal):\n",
    "    def speak(self):\n",
    "        return \"Woof\"\n",
    "\n",
    "class Cat(Animal):\n",
    "    def speak(self):\n",
    "        return \"Meow\"\n"
   ]
  }
 ],
 "metadata": {
  "kernelspec": {
   "display_name": "Python 3 (ipykernel)",
   "language": "python",
   "name": "python3"
  },
  "language_info": {
   "codemirror_mode": {
    "name": "ipython",
    "version": 3
   },
   "file_extension": ".py",
   "mimetype": "text/x-python",
   "name": "python",
   "nbconvert_exporter": "python",
   "pygments_lexer": "ipython3",
   "version": "3.10.8"
  }
 },
 "nbformat": 4,
 "nbformat_minor": 5
}
