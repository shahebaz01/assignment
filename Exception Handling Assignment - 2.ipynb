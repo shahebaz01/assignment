{
 "cells": [
  {
   "cell_type": "code",
   "execution_count": 1,
   "id": "dbf4a92a-212e-41a3-a272-83e2f722b6db",
   "metadata": {},
   "outputs": [],
   "source": [
    "#Q1 explain why we have to use the exception class while creating custom exception "
   ]
  },
  {
   "cell_type": "code",
   "execution_count": 2,
   "id": "18797c9c-09d2-4229-b3ed-cbd931a91ea7",
   "metadata": {},
   "outputs": [],
   "source": [
    "#Built-in exceptions offer information about Python-related problems, \n",
    "#and custom exceptions will add information about project-related problems. \n",
    "#That way, you can design your code (and traceback, if an exception is raised) \n",
    "#in a way that combines Python code with the language of the project."
   ]
  },
  {
   "cell_type": "code",
   "execution_count": 3,
   "id": "052ca134-0e24-48cd-8407-6426d74b3e4e",
   "metadata": {},
   "outputs": [],
   "source": [
    "#Q2 Write a python program to print python exception hierarchy."
   ]
  },
  {
   "cell_type": "code",
   "execution_count": 4,
   "id": "c09c8fc9-9b67-4a5f-9130-390f1ae4631d",
   "metadata": {},
   "outputs": [
    {
     "name": "stdout",
     "output_type": "stream",
     "text": [
      "BaseException\n",
      "    Exception\n",
      "        TypeError\n",
      "        StopAsyncIteration\n",
      "        StopIteration\n",
      "        ImportError\n",
      "            ModuleNotFoundError\n",
      "        OSError\n",
      "            ConnectionError\n",
      "                BrokenPipeError\n",
      "                ConnectionAbortedError\n",
      "                ConnectionRefusedError\n",
      "                ConnectionResetError\n",
      "            BlockingIOError\n",
      "            ChildProcessError\n",
      "            FileExistsError\n",
      "            FileNotFoundError\n",
      "            IsADirectoryError\n",
      "            NotADirectoryError\n",
      "            InterruptedError\n",
      "            PermissionError\n",
      "            ProcessLookupError\n",
      "            TimeoutError\n",
      "        EOFError\n",
      "        RuntimeError\n",
      "            RecursionError\n",
      "            NotImplementedError\n",
      "        NameError\n",
      "            UnboundLocalError\n",
      "        AttributeError\n",
      "        SyntaxError\n",
      "            IndentationError\n",
      "                TabError\n",
      "        LookupError\n",
      "            IndexError\n",
      "            KeyError\n",
      "        ValueError\n",
      "            UnicodeError\n",
      "                UnicodeEncodeError\n",
      "                UnicodeDecodeError\n",
      "                UnicodeTranslateError\n",
      "        AssertionError\n",
      "        ArithmeticError\n",
      "            FloatingPointError\n",
      "            OverflowError\n",
      "            ZeroDivisionError\n",
      "        SystemError\n",
      "        ReferenceError\n",
      "        MemoryError\n",
      "        BufferError\n",
      "        Warning\n",
      "            UserWarning\n",
      "            EncodingWarning\n",
      "            DeprecationWarning\n",
      "            PendingDeprecationWarning\n",
      "            SyntaxWarning\n",
      "            RuntimeWarning\n",
      "            FutureWarning\n",
      "            ImportWarning\n",
      "            UnicodeWarning\n",
      "            BytesWarning\n",
      "            ResourceWarning\n",
      "        TimeoutError\n",
      "        TimeoutError\n",
      "        Warning\n",
      "    GeneratorExit\n",
      "    SystemExit\n",
      "    KeyboardInterrupt\n"
     ]
    }
   ],
   "source": [
    "import inspect\n",
    "import builtins\n",
    "\n",
    "def print_exception_tree(thisclass, indent):\n",
    "    if thisclass.__name__ in dir(builtins):\n",
    "        print(' '*indent + thisclass.__name__)\n",
    "        for subclass in thisclass.__subclasses__():\n",
    "            print_exception_tree(subclass, indent+4)\n",
    "\n",
    "print_exception_tree(BaseException, 0)\n"
   ]
  },
  {
   "cell_type": "code",
   "execution_count": null,
   "id": "b8ee08c3-1748-48e8-a839-f62e42c5e595",
   "metadata": {},
   "outputs": [],
   "source": [
    "#Q3 What errors are defined in Arithmetic Error class. Explain any 2 with an example in python."
   ]
  },
  {
   "cell_type": "code",
   "execution_count": 5,
   "id": "d81ff108-d868-4263-b7d9-b2359c38d6a5",
   "metadata": {},
   "outputs": [],
   "source": [
    "#ArithmeticError is a built-in exception in Python that serves as the base class for \n",
    "#arithmetic errors such as OverflowError, ZeroDivisionError, and FloatingPointError"
   ]
  },
  {
   "cell_type": "code",
   "execution_count": 6,
   "id": "507ea1ef-966e-4a90-8d74-72db817abd0a",
   "metadata": {},
   "outputs": [
    {
     "name": "stdout",
     "output_type": "stream",
     "text": [
      "Overflow error occurred\n"
     ]
    }
   ],
   "source": [
    "#overflow error\n",
    "try:\n",
    "    x = 2.0**1024\n",
    "except OverflowError:\n",
    "    print(\"Overflow error occurred\")\n"
   ]
  },
  {
   "cell_type": "code",
   "execution_count": 7,
   "id": "de425252-d679-4413-8795-8be1c9c6cd12",
   "metadata": {},
   "outputs": [
    {
     "name": "stdout",
     "output_type": "stream",
     "text": [
      "Cannot divide by zero!\n"
     ]
    }
   ],
   "source": [
    "# ZeroDivisionError\n",
    "\n",
    "try:\n",
    "    x = 5\n",
    "    y = 0\n",
    "    z = x / y\n",
    "except ZeroDivisionError:\n",
    "    print(\"Cannot divide by zero!\")\n"
   ]
  },
  {
   "cell_type": "code",
   "execution_count": 8,
   "id": "ed654c7e-51e6-4de6-b733-3eb3b3869cf8",
   "metadata": {},
   "outputs": [],
   "source": [
    "#Q4. Why LookupError class is used? Explain with an example KeyError and IndexError."
   ]
  },
  {
   "cell_type": "code",
   "execution_count": 9,
   "id": "bd219ec3-e711-43e8-a729-8cdb0a138bca",
   "metadata": {},
   "outputs": [],
   "source": [
    "#LookupError is a built-in exception in Python that serves as the base class for errors \n",
    "#that occur when a key or index used on a mapping or sequence is invalid, such as KeyError and IndexError"
   ]
  },
  {
   "cell_type": "code",
   "execution_count": 10,
   "id": "af4b737f-0bfa-4e42-8c76-ce5143163be7",
   "metadata": {},
   "outputs": [
    {
     "name": "stdout",
     "output_type": "stream",
     "text": [
      "Key not found!\n"
     ]
    }
   ],
   "source": [
    "# KeyError\n",
    "\n",
    "my_dict = {'a': 1, 'b': 2}\n",
    "\n",
    "try:\n",
    "    value = my_dict['c']\n",
    "except KeyError:\n",
    "    print(\"Key not found!\")\n"
   ]
  },
  {
   "cell_type": "code",
   "execution_count": 11,
   "id": "74e848e8-80e3-482b-b803-ac32bb3c28f2",
   "metadata": {},
   "outputs": [
    {
     "name": "stdout",
     "output_type": "stream",
     "text": [
      "Index out of range!\n"
     ]
    }
   ],
   "source": [
    "# IndexError\n",
    "\n",
    "my_list = [1, 2, 3]\n",
    "\n",
    "try:\n",
    "    value = my_list[3]\n",
    "except IndexError:\n",
    "    print(\"Index out of range!\")\n"
   ]
  },
  {
   "cell_type": "code",
   "execution_count": 12,
   "id": "4655114e-78b4-48c9-9368-1369fcfc6914",
   "metadata": {},
   "outputs": [],
   "source": [
    "#Q5. Explain ImportError. What is ModuleNotFoundError?"
   ]
  },
  {
   "cell_type": "code",
   "execution_count": 13,
   "id": "8acb19a6-4ef3-433b-940a-234001ede075",
   "metadata": {},
   "outputs": [],
   "source": [
    "#ImportError is a built-in exception in Python that is raised when an import statement fails to find the specified module or when a  \n",
    "#from  import  \n",
    "#statement fails to find a name that is to be imported from a module."
   ]
  },
  {
   "cell_type": "code",
   "execution_count": 14,
   "id": "c9114e36-534e-4eae-b8c8-d9e1a3bbd640",
   "metadata": {},
   "outputs": [
    {
     "name": "stdout",
     "output_type": "stream",
     "text": [
      "Module not found!\n"
     ]
    }
   ],
   "source": [
    "try:\n",
    "    import my_module\n",
    "except ImportError:\n",
    "    print(\"Module not found!\")\n"
   ]
  },
  {
   "cell_type": "code",
   "execution_count": 15,
   "id": "f245b8fd-06fa-4d8c-be8e-cb97973c9664",
   "metadata": {},
   "outputs": [],
   "source": [
    "#Q6. List down some best practices for exception handling in python."
   ]
  },
  {
   "cell_type": "code",
   "execution_count": null,
   "id": "d27a4114-0d95-4366-a49e-6f5c512f1f10",
   "metadata": {},
   "outputs": [],
   "source": [
    "#1 use always a specific exception\n",
    "#2 print a"
   ]
  }
 ],
 "metadata": {
  "kernelspec": {
   "display_name": "Python 3 (ipykernel)",
   "language": "python",
   "name": "python3"
  },
  "language_info": {
   "codemirror_mode": {
    "name": "ipython",
    "version": 3
   },
   "file_extension": ".py",
   "mimetype": "text/x-python",
   "name": "python",
   "nbconvert_exporter": "python",
   "pygments_lexer": "ipython3",
   "version": "3.10.8"
  }
 },
 "nbformat": 4,
 "nbformat_minor": 5
}
