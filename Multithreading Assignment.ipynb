{
 "cells": [
  {
   "cell_type": "code",
   "execution_count": 1,
   "id": "67f4711b-cfe1-4760-924b-62b0fb6dd80d",
   "metadata": {},
   "outputs": [],
   "source": [
    "#Q1 what is multithreading in python? hy is it used? Name the module used to handle threads in python"
   ]
  },
  {
   "cell_type": "code",
   "execution_count": 2,
   "id": "cb84738e-350d-48d8-8fe5-39f0859e8277",
   "metadata": {},
   "outputs": [],
   "source": [
    "# multithreading is a technique which allows a CPU to execute multiple threads of one process at a same time\n",
    "# threading module is used to handle threads in pythion"
   ]
  },
  {
   "cell_type": "code",
   "execution_count": 3,
   "id": "5b2ac7aa-4bf0-47d0-bd0f-68f17ed837f7",
   "metadata": {},
   "outputs": [],
   "source": [
    "#Q2 why threading module used? write the use of the following functions\n",
    "# 1 activeCount()\n",
    "# 2 currentThread()\n",
    "# 2 enumerate()"
   ]
  },
  {
   "cell_type": "code",
   "execution_count": 4,
   "id": "87eb0d89-f801-4e75-862b-5aca821aa2f9",
   "metadata": {},
   "outputs": [],
   "source": [
    "#The threading module is used in Python to create and manage threads. \n",
    "#Threads allow you to run multiple tasks concurrently within a single process,\n",
    "#which can improve the performance and responsiveness of your programs.\n"
   ]
  },
  {
   "cell_type": "code",
   "execution_count": 5,
   "id": "10e85b77-807e-4f0e-8075-6b211e25aa55",
   "metadata": {},
   "outputs": [],
   "source": [
    "#activecount()\n",
    "#This function returns the number of Thread objects currently alive\n",
    "#currentthread() \n",
    "#This function returns the current Thread object, which represents the thread that is currently executing\n",
    "# enumerate()\n",
    "# This function returns a list of all Thread objects currently alive. This includes both daemon and non-daemon threads, \n",
    "#as well as the main thread"
   ]
  },
  {
   "cell_type": "code",
   "execution_count": 6,
   "id": "ffe0d0f5-0b0d-46ba-97fe-09ec7cad8f01",
   "metadata": {},
   "outputs": [],
   "source": [
    "#Q3. Explain the following functions\n",
    "# run\n",
    "# start\n",
    "# join\n",
    "# isAlive"
   ]
  },
  {
   "cell_type": "code",
   "execution_count": 7,
   "id": "63426595-27e7-462c-9ffc-52d5a3c6fdd2",
   "metadata": {},
   "outputs": [],
   "source": [
    "#run() − The run() method is the entry point for a thread.\n",
    "\n",
    "#start() − The start() method starts a thread by calling the run method.\n",
    "\n",
    "#join([time]) − The join() waits for threads to terminate.\n",
    "\n",
    "#isAlive() − The isAlive() method checks whether a thread is still executing."
   ]
  },
  {
   "cell_type": "code",
   "execution_count": 8,
   "id": "de082d06-f7ef-4416-82f9-877a09791fa2",
   "metadata": {},
   "outputs": [],
   "source": [
    "#Q4. rite a python program to create two threads. Thread one must print the list of squares and thread\n",
    "#two must print the list of cubes"
   ]
  },
  {
   "cell_type": "code",
   "execution_count": 9,
   "id": "4ea784fe-7d0d-452b-8fec-8f725456beb8",
   "metadata": {},
   "outputs": [
    {
     "name": "stdout",
     "output_type": "stream",
     "text": [
      "1\n",
      "4\n",
      "9\n",
      "16\n",
      "25\n",
      "1\n",
      "8\n",
      "27\n",
      "64\n",
      "125\n"
     ]
    }
   ],
   "source": [
    "import threading\n",
    "\n",
    "def print_squares(n):\n",
    "    for i in range(1, n+1):\n",
    "        print(i**2)\n",
    "\n",
    "def print_cubes(n):\n",
    "    for i in range(1, n+1):\n",
    "        print(i**3)\n",
    "\n",
    "n = 5\n",
    "\n",
    "t1 = threading.Thread(target=print_squares, args=(n,))\n",
    "t2 = threading.Thread(target=print_cubes, args=(n,))\n",
    "\n",
    "t1.start()\n",
    "t2.start()\n",
    "\n",
    "t1.join()\n",
    "t2.join()\n"
   ]
  },
  {
   "cell_type": "code",
   "execution_count": 10,
   "id": "0f07dc65-4201-4ea8-9150-a8e40440aeba",
   "metadata": {},
   "outputs": [],
   "source": [
    "#Q5. State advantages and disadvantages of multithreading"
   ]
  },
  {
   "cell_type": "code",
   "execution_count": 11,
   "id": "4cf86ef2-7260-4151-b323-e34ecb7d15e1",
   "metadata": {},
   "outputs": [],
   "source": [
    "#advantages\n",
    "#1 We can execute multiple tasks of an application at a time\n",
    "#2 Reduces the complexity of a big applications\n",
    "#3 Helps to improve the performance of an application drastically\n",
    "#4 Utilizes the max resources of multiprocessor systems\n",
    "#5 Better user interface in case of GUI based applications\n",
    "#6 Reduces the development time of an application\n",
    "#7 All the threads are independent , any unexpected exception happens in any of the thread will not lead to an application exit.\n"
   ]
  },
  {
   "cell_type": "code",
   "execution_count": 12,
   "id": "49f27e82-a260-455a-840f-e590fbaeaf1b",
   "metadata": {},
   "outputs": [],
   "source": [
    "#Disadvantages\n",
    "#1 Thread synchronization is an extra over head to the developers\n",
    "#2 Shares the common data across the threads might cause the data inconsistency or thread sync issues\n",
    "#3 Threads blocking for resources is more common problem\n",
    "#4 Difficult in managing the code in terms of debugging or writing the code"
   ]
  },
  {
   "cell_type": "code",
   "execution_count": 13,
   "id": "28c27731-20b3-42e8-8d27-6a510b69bdfa",
   "metadata": {},
   "outputs": [],
   "source": [
    "#Q6 explain deadlocks and race conditions"
   ]
  },
  {
   "cell_type": "code",
   "execution_count": null,
   "id": "c3ed3263-2394-4570-aabd-d2bcc8fcb9fd",
   "metadata": {},
   "outputs": [],
   "source": [
    "#Race condition\n",
    "#When two processes are competing with each other causing data corruption\n",
    "#deadlock\n",
    "#When two processes are waiting for each other directly or indirectly, it is called deadlock"
   ]
  }
 ],
 "metadata": {
  "kernelspec": {
   "display_name": "Python 3 (ipykernel)",
   "language": "python",
   "name": "python3"
  },
  "language_info": {
   "codemirror_mode": {
    "name": "ipython",
    "version": 3
   },
   "file_extension": ".py",
   "mimetype": "text/x-python",
   "name": "python",
   "nbconvert_exporter": "python",
   "pygments_lexer": "ipython3",
   "version": "3.10.8"
  }
 },
 "nbformat": 4,
 "nbformat_minor": 5
}
