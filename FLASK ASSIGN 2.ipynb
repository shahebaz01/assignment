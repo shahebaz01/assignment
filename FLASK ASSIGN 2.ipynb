{
 "cells": [
  {
   "cell_type": "code",
   "execution_count": 1,
   "id": "4458e725-7bbf-43d8-9c6a-5f5bbdb0a87f",
   "metadata": {},
   "outputs": [],
   "source": [
    "#Q1. Explain GET and POST methods."
   ]
  },
  {
   "cell_type": "code",
   "execution_count": 2,
   "id": "e22a10ff-358e-4965-8f36-a5401cbf4e65",
   "metadata": {},
   "outputs": [],
   "source": [
    "#GET: \n",
    "#The GET method is used to retrieve data from a web server. When you make a GET request, \n",
    "#you specify the URL of the resource you want to retrieve, along with any query parameters that should be included in the request. \n",
    "#The web server processes the request and returns a response containing the requested data. GET requests are typically used to retrieve\n",
    "#data that doesn’t change very often, such as static web pages or images.\n",
    "\n",
    "#POST: The POST method is used to send data to a web server. When you make a POST request, you specify the URL of the resource \n",
    "#you want to send data to, along with the data itself. The data is typically included in the body of the request, and can be in \n",
    "#various formats such as JSON or XML. The web server processes the request and returns a response indicating whether the data \n",
    "#was successfully processed. POST requests are typically used to submit data to a web server, such as form data or user-generated content."
   ]
  },
  {
   "cell_type": "code",
   "execution_count": 3,
   "id": "6975e531-7658-4312-a2ab-e5e4ba752ee3",
   "metadata": {},
   "outputs": [],
   "source": [
    "#Q2. Why is request used in Flask?"
   ]
  },
  {
   "cell_type": "code",
   "execution_count": 4,
   "id": "46a9564b-8880-4869-9aef-894f5d64863b",
   "metadata": {},
   "outputs": [],
   "source": [
    "#In Flask, the request object is used to access information about the current request being processed by the Flask application. \n",
    "#The request object is an instance of the Request class, and contains information such as the request method, the request headers, and any data included in the request."
   ]
  },
  {
   "cell_type": "code",
   "execution_count": 5,
   "id": "37499040-c62e-4dab-921c-812230ce906a",
   "metadata": {},
   "outputs": [],
   "source": [
    "#Q3. Why is redirect() used in Flask?"
   ]
  },
  {
   "cell_type": "code",
   "execution_count": 6,
   "id": "6b107922-fbca-418e-af05-c4193ee7d7dd",
   "metadata": {},
   "outputs": [],
   "source": [
    "#In Flask, the redirect() function is used to redirect the user to a different URL. This function generates a special type of response, known as a redirect response, \n",
    "#which instructs the user’s web browser to navigate to a new URL."
   ]
  },
  {
   "cell_type": "code",
   "execution_count": 7,
   "id": "499136cd-d89d-49df-846a-3dfe975f9b9f",
   "metadata": {},
   "outputs": [],
   "source": [
    "#Q4. What are templates in Flask? Why is the render_template() function used?"
   ]
  },
  {
   "cell_type": "code",
   "execution_count": null,
   "id": "86cf1cc3-77f0-4d5e-aca9-09a54a411e59",
   "metadata": {},
   "outputs": [],
   "source": [
    "#In Flask, templates are used to generate dynamic HTML pages. Templates are text files that define the structure and content of an HTML page, \n",
    "#with placeholders for dynamic data that can be filled in at runtime.\n",
    "#The render_template() function is used in Flask to render a template and generate an HTML response.\n",
    "#This function takes the name of a template file as its first argument, \n",
    "#followed by any additional arguments that specify the data to be passed to the template."
   ]
  }
 ],
 "metadata": {
  "kernelspec": {
   "display_name": "Python 3 (ipykernel)",
   "language": "python",
   "name": "python3"
  },
  "language_info": {
   "codemirror_mode": {
    "name": "ipython",
    "version": 3
   },
   "file_extension": ".py",
   "mimetype": "text/x-python",
   "name": "python",
   "nbconvert_exporter": "python",
   "pygments_lexer": "ipython3",
   "version": "3.10.8"
  }
 },
 "nbformat": 4,
 "nbformat_minor": 5
}
