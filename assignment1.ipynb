{
 "cells": [
  {
   "cell_type": "code",
   "execution_count": 17,
   "id": "7b9211f2-b7d9-4ea1-8c78-cbf18d843c8e",
   "metadata": {},
   "outputs": [],
   "source": [
    "t = (1,2,3,'shbs',25.25,[1,2,3,4,5])"
   ]
  },
  {
   "cell_type": "code",
   "execution_count": 18,
   "id": "913a3ff0-f917-48c9-821a-285faeb06c26",
   "metadata": {},
   "outputs": [],
   "source": [
    "var1 = '' its a string variable"
   ]
  },
  {
   "cell_type": "code",
   "execution_count": 20,
   "id": "a582ff40-9661-434b-89ca-12e77b634934",
   "metadata": {},
   "outputs": [],
   "source": [
    "var2 = '[DS,ML,PYTHON]'  its a string variable"
   ]
  },
  {
   "cell_type": "code",
   "execution_count": 22,
   "id": "78b31c17-1b28-4956-9697-008203ae0fc7",
   "metadata": {},
   "outputs": [],
   "source": [
    "var3 = ['DS','ML''PYTHON'] its a list variable"
   ]
  },
  {
   "cell_type": "code",
   "execution_count": 30,
   "id": "d731d9cd-30e0-4d96-963c-17e1aa7be7bb",
   "metadata": {},
   "outputs": [],
   "source": [
    "var4 = 1 its a int variable"
   ]
  },
  {
   "cell_type": "code",
   "execution_count": null,
   "id": "5a9f57eb-6229-4787-8929-a5f4a9afd797",
   "metadata": {},
   "outputs": [],
   "source": [
    "Q3"
   ]
  },
  {
   "cell_type": "code",
   "execution_count": 33,
   "id": "375fb73b-58d4-4190-b9e0-e73b4b12d11a",
   "metadata": {},
   "outputs": [],
   "source": [
    "##  / it is used for division it is a arithmatic operator"
   ]
  },
  {
   "cell_type": "code",
   "execution_count": 36,
   "id": "0d95f0a1-9b82-452c-98f1-f7e74716ba87",
   "metadata": {},
   "outputs": [],
   "source": [
    "a = 10"
   ]
  },
  {
   "cell_type": "code",
   "execution_count": 37,
   "id": "08685306-5a51-4086-b10b-1c3c8401d303",
   "metadata": {},
   "outputs": [],
   "source": [
    "b = 5"
   ]
  },
  {
   "cell_type": "code",
   "execution_count": 40,
   "id": "26c1ab6f-5109-4a2e-a78c-778cf80af49c",
   "metadata": {},
   "outputs": [],
   "source": [
    "c = a/b"
   ]
  },
  {
   "cell_type": "code",
   "execution_count": 41,
   "id": "de4711c4-a813-458c-8051-213337a02b7a",
   "metadata": {},
   "outputs": [
    {
     "data": {
      "text/plain": [
       "2.0"
      ]
     },
     "execution_count": 41,
     "metadata": {},
     "output_type": "execute_result"
    }
   ],
   "source": [
    "c"
   ]
  },
  {
   "cell_type": "code",
   "execution_count": 42,
   "id": "ccebd755-8110-4df6-9a0a-c2e8d7ee6001",
   "metadata": {},
   "outputs": [],
   "source": [
    "## % it is a arithmatic operator"
   ]
  },
  {
   "cell_type": "code",
   "execution_count": 52,
   "id": "a2e3b3e8-22d4-470e-b61f-a509e9ba0c95",
   "metadata": {},
   "outputs": [],
   "source": [
    "a=10"
   ]
  },
  {
   "cell_type": "code",
   "execution_count": 53,
   "id": "48978cb0-91e9-46fa-b097-0a26de890a76",
   "metadata": {},
   "outputs": [],
   "source": [
    "b=40"
   ]
  },
  {
   "cell_type": "code",
   "execution_count": 54,
   "id": "a094c28a-7f72-4601-9091-3e0972633696",
   "metadata": {},
   "outputs": [],
   "source": [
    "c=a%b"
   ]
  },
  {
   "cell_type": "code",
   "execution_count": 55,
   "id": "20464f77-3731-423c-bd61-6a10a62714ba",
   "metadata": {},
   "outputs": [
    {
     "data": {
      "text/plain": [
       "10"
      ]
     },
     "execution_count": 55,
     "metadata": {},
     "output_type": "execute_result"
    }
   ],
   "source": [
    "c"
   ]
  },
  {
   "cell_type": "code",
   "execution_count": 56,
   "id": "7dcc2ec6-03fa-48dc-b78a-06d4efa7084f",
   "metadata": {},
   "outputs": [],
   "source": [
    "## // it is a arithmatic operator "
   ]
  },
  {
   "cell_type": "code",
   "execution_count": 60,
   "id": "5bb47303-dc39-432b-9466-361041abeff7",
   "metadata": {},
   "outputs": [],
   "source": [
    "a=50"
   ]
  },
  {
   "cell_type": "code",
   "execution_count": 61,
   "id": "55945a5d-058c-4680-a185-33c1591b66d0",
   "metadata": {},
   "outputs": [],
   "source": [
    "b=20"
   ]
  },
  {
   "cell_type": "code",
   "execution_count": 63,
   "id": "6b0d00e3-61b8-4e78-8800-bdc4d30d1e7f",
   "metadata": {},
   "outputs": [],
   "source": [
    "c=(a//b)"
   ]
  },
  {
   "cell_type": "code",
   "execution_count": 64,
   "id": "b5e49206-adbf-4af1-b297-eadfc2fbe86f",
   "metadata": {},
   "outputs": [
    {
     "data": {
      "text/plain": [
       "2"
      ]
     },
     "execution_count": 64,
     "metadata": {},
     "output_type": "execute_result"
    }
   ],
   "source": [
    "c"
   ]
  },
  {
   "cell_type": "code",
   "execution_count": 65,
   "id": "9c52cebf-45a0-4326-9a72-0cbdbe87ec19",
   "metadata": {},
   "outputs": [],
   "source": [
    "##  ** its a arithmatic operator"
   ]
  },
  {
   "cell_type": "code",
   "execution_count": 66,
   "id": "ab226c8b-6245-40a0-83e9-95352deff04c",
   "metadata": {},
   "outputs": [],
   "source": [
    "a = 5"
   ]
  },
  {
   "cell_type": "code",
   "execution_count": 70,
   "id": "10c455a5-de9d-4cc1-bbe6-3977cee74bc1",
   "metadata": {},
   "outputs": [],
   "source": [
    "b = 2"
   ]
  },
  {
   "cell_type": "code",
   "execution_count": 71,
   "id": "2eb2bfb7-1588-4cdf-843d-592806257114",
   "metadata": {},
   "outputs": [],
   "source": [
    "c = a**b"
   ]
  },
  {
   "cell_type": "code",
   "execution_count": 72,
   "id": "6b9aa084-c545-4085-a842-3093e62fe493",
   "metadata": {},
   "outputs": [
    {
     "data": {
      "text/plain": [
       "25"
      ]
     },
     "execution_count": 72,
     "metadata": {},
     "output_type": "execute_result"
    }
   ],
   "source": [
    "c"
   ]
  },
  {
   "cell_type": "code",
   "execution_count": null,
   "id": "f6250ef5-a0ae-4d80-9e1b-681458aaced1",
   "metadata": {},
   "outputs": [],
   "source": [
    "## Question 4"
   ]
  },
  {
   "cell_type": "code",
   "execution_count": 74,
   "id": "d94431b0-9ddd-4f90-a38c-ad1e9f9da90c",
   "metadata": {},
   "outputs": [],
   "source": [
    "l = [1,2,3,\"shbs\",12.10,True,False,8,9,10]"
   ]
  },
  {
   "cell_type": "code",
   "execution_count": 79,
   "id": "f9adc755-2eb2-4378-9588-deaa06bf5a9b",
   "metadata": {},
   "outputs": [
    {
     "name": "stdout",
     "output_type": "stream",
     "text": [
      "<class 'int'>\n",
      "<class 'int'>\n",
      "<class 'int'>\n",
      "<class 'str'>\n",
      "<class 'float'>\n",
      "<class 'bool'>\n",
      "<class 'bool'>\n",
      "<class 'int'>\n",
      "<class 'int'>\n",
      "<class 'int'>\n"
     ]
    }
   ],
   "source": [
    "for i in l :\n",
    "    print(type(i))"
   ]
  },
  {
   "cell_type": "code",
   "execution_count": 83,
   "id": "2589eb75-59ed-4859-a992-d70e4349905b",
   "metadata": {},
   "outputs": [
    {
     "name": "stdout",
     "output_type": "stream",
     "text": [
      "1\n",
      "2\n",
      "3\n",
      "shbs\n",
      "12.1\n",
      "True\n",
      "False\n",
      "8\n",
      "9\n",
      "10\n"
     ]
    }
   ],
   "source": [
    "l = [1,2,3,\"shbs\",12.10,True,False,8,9,10]\n",
    "for i in l  :\n",
    "    print(i)"
   ]
  },
  {
   "cell_type": "code",
   "execution_count": 44,
   "id": "b0772bc4-90b1-4633-a87f-2c51d18c1def",
   "metadata": {},
   "outputs": [],
   "source": [
    "## Question 5"
   ]
  },
  {
   "cell_type": "code",
   "execution_count": 35,
   "id": "acb8fbda-8d11-449a-8a54-195dbf51d405",
   "metadata": {},
   "outputs": [
    {
     "name": "stdout",
     "output_type": "stream",
     "text": [
      "A is divisible by B times\n"
     ]
    }
   ],
   "source": [
    "A = 20\n",
    "B = 4\n",
    "while A % B == 0:\n",
    "    A = A / B\n",
    "print(\"A is divisible by B times\")\n"
   ]
  },
  {
   "cell_type": "code",
   "execution_count": null,
   "id": "8df84048-8bb6-4f52-ae29-4d1e5504e5d8",
   "metadata": {},
   "outputs": [],
   "source": [
    "## Question 6"
   ]
  },
  {
   "cell_type": "code",
   "execution_count": 46,
   "id": "348be1cd-a738-4119-a140-dfeb4b9aa06f",
   "metadata": {},
   "outputs": [
    {
     "name": "stdout",
     "output_type": "stream",
     "text": [
      "not divisible\n",
      "not divisible\n",
      "3\n",
      "not divisible\n",
      "not divisible\n",
      "6\n",
      "not divisible\n",
      "not divisible\n",
      "9\n",
      "not divisible\n",
      "not divisible\n",
      "12\n",
      "not divisible\n",
      "not divisible\n",
      "15\n",
      "not divisible\n",
      "not divisible\n",
      "18\n",
      "not divisible\n",
      "not divisible\n",
      "21\n",
      "not divisible\n",
      "not divisible\n",
      "24\n",
      "not divisible\n",
      "not divisible\n"
     ]
    }
   ],
   "source": [
    "l = (1,2,3,4,5,6,7,8,9,10,11,12,13,14,15,16,17,18,19,20,21,22,23,24,25,26)\n",
    "for i in l :\n",
    "    if i % 3 == 0:\n",
    "        print(i)\n",
    "    else:\n",
    "        print(\"not divisible\")"
   ]
  },
  {
   "cell_type": "code",
   "execution_count": 47,
   "id": "5de3c9da-ceda-4e0c-afb2-da66bc1fa2e0",
   "metadata": {},
   "outputs": [],
   "source": [
    "##Question 7"
   ]
  },
  {
   "cell_type": "code",
   "execution_count": null,
   "id": "16a2388f-cfe1-4e36-8476-5fac6b6c3ade",
   "metadata": {},
   "outputs": [],
   "source": [
    "mutable data types can be changed or edited after creation.\n",
    "e.g. list and dictionary data can be changed after creation.\n",
    "\n",
    "imutable data cannot be changed once they are create"
   ]
  }
 ],
 "metadata": {
  "kernelspec": {
   "display_name": "Python 3 (ipykernel)",
   "language": "python",
   "name": "python3"
  },
  "language_info": {
   "codemirror_mode": {
    "name": "ipython",
    "version": 3
   },
   "file_extension": ".py",
   "mimetype": "text/x-python",
   "name": "python",
   "nbconvert_exporter": "python",
   "pygments_lexer": "ipython3",
   "version": "3.10.8"
  }
 },
 "nbformat": 4,
 "nbformat_minor": 5
}
