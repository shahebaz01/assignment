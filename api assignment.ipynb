{
 "cells": [
  {
   "cell_type": "code",
   "execution_count": 1,
   "id": "833280de-190f-484f-8a90-ed88c0268873",
   "metadata": {},
   "outputs": [],
   "source": [
    "#Q1. What is an API? Give an example, where an API is used in real life."
   ]
  },
  {
   "cell_type": "code",
   "execution_count": 2,
   "id": "fc4dacfb-7d44-4743-a48a-5ed1037ba1ae",
   "metadata": {},
   "outputs": [],
   "source": [
    "#An API, or Application Programming Interface, is a set of rules and protocols that allows different software \n",
    "#applications to communicate with each other. APIs provide a way for developers to access the functionality of another piece of software, such as a web service, \n",
    "#and use that functionality in their own applications.\n",
    "\n",
    "#Example, \n",
    "#when you use a mobile app to book a flight, the app might use an API provided by an airline to access their flight booking system. \n",
    "#The app sends a request to the API with the details of the flight you want to book, and the API returns a response with the available \n",
    "#options and prices. The app can then use this information to display the available flights to you and allow you to complete the booking process."
   ]
  },
  {
   "cell_type": "code",
   "execution_count": 3,
   "id": "4df725a2-9acb-4c70-85f1-78f2e8422a9b",
   "metadata": {},
   "outputs": [],
   "source": [
    "#Q2. Give advantages and disadvantages of using API."
   ]
  },
  {
   "cell_type": "code",
   "execution_count": 4,
   "id": "a2a12995-cd9e-4aae-af78-980b512f9014",
   "metadata": {},
   "outputs": [],
   "source": [
    "#Advantages of API\n",
    "#Efficiency: APIs allow developers to access the functionality of another piece of software without having to recreate that functionality themselves.\n",
    "#Integration: APIs provide a standardized way for different software systems to communicate and share data, \n",
    "#making it easier to integrate different systems and build complex applications \n",
    "#that leverage the capabilities of multiple software components.\n",
    "#Flexibility: APIs provide a flexible and modular way to build software systems.\n",
    "#Innovation: APIs enable developers to build new and innovative applications that leverage the capabilities of other software systems. \n",
    "\n",
    "#Disadvantages of API\n",
    "#Dependency: When you use an API provided by another software system, you become dependent on that system for the functionality provided by the API.\n",
    "#Security: Using APIs can introduce security risks if the API provider does not have adequate security measures in place\n",
    "#Cost: Some API providers charge fees for using their APIs, which can add to the cost of developing and running your application."
   ]
  },
  {
   "cell_type": "code",
   "execution_count": 5,
   "id": "24174d5a-3fb3-416d-b53e-f16b23dd5788",
   "metadata": {},
   "outputs": [],
   "source": [
    "#Q3. What is a Web API? Differentiate between API and Web API."
   ]
  },
  {
   "cell_type": "code",
   "execution_count": 6,
   "id": "6852b794-d466-4575-87e2-d331eb9476c1",
   "metadata": {},
   "outputs": [],
   "source": [
    "#A Web API is a type of API that uses HTTP to communicate between different software systems.\n",
    "#Web APIs allow developers to access the functionality of a web service, such as a cloud-based application or platform, by sending HTTP requests\n",
    "#to the service’s API endpoints and receiving responses in return.\n",
    "\n",
    "#The main difference between a general API and a Web API is the way they communicate. While an API can use any protocol or method to communicate between \n",
    "#different software systems, a Web API specifically uses HTTP as its communication protocol. This means that Web APIs can be accessed from any programming \n",
    "#language or platform that supports HTTP, making them widely accessible and easy to use.\n",
    "\n",
    "#Another difference between APIs and Web APIs is the format of the data they exchange. While an API can use any data format, \n",
    "#such as binary or custom formats, Web APIs typically use standard web data formats such as JSON or XML. This makes it easier for \n",
    "#developers to work with the data returned by a Web API, as these formats are widely used and well understood."
   ]
  },
  {
   "cell_type": "code",
   "execution_count": 7,
   "id": "f3bb0165-553d-43ea-8c62-a32418a6ac11",
   "metadata": {},
   "outputs": [],
   "source": [
    "#Q4. Explain REST and SOAP Architecture. Mention shortcomings of SOAP."
   ]
  },
  {
   "cell_type": "code",
   "execution_count": 8,
   "id": "dc51804f-543a-467d-928c-a31fb4240cf8",
   "metadata": {},
   "outputs": [],
   "source": [
    "#REST (Representational State Transfer)\n",
    "#REST is an architectural style that defines a set of constraints to be used when creating web services. \n",
    "#RESTful web services use HTTP methods (such as GET, POST, PUT, and DELETE) to perform operations on resources, \n",
    "#which are identified by URIs. RESTful web services typically exchange data in JSON or XML format, and are designed to be simple, lightweight, and scalable.\n",
    "\n",
    "#SOAP (Simple Object Access Protocol)\n",
    "#SOAP,is a protocol for exchanging structured information between different systems. SOAP uses XML as its message format, \n",
    "#and relies on other application layer protocols (such as HTTP or SMTP) for message negotiation and transmission. SOAP messages \n",
    "#are typically more complex than RESTful messages, and include additional information such as message headers and envelopes."
   ]
  },
  {
   "cell_type": "code",
   "execution_count": 9,
   "id": "118a4acd-71aa-43d0-89c4-728351499141",
   "metadata": {},
   "outputs": [],
   "source": [
    "#shortcomings of SOAP include:\n",
    "#Complexity: SOAP messages can be more complex than RESTful messages, as they include additional information such as message headers and envelopes.\n",
    "#Verbosity: Because SOAP uses XML as its message format, SOAP messages can be more verbose than RESTful messages, which typically use JSON\n",
    "#Flexibility: SOAP is a more rigid protocol than REST, with stricter rules for how messages should be formatted and transmitted.\n",
    "#Performance: Due to the additional complexity and verbosity of SOAP messages, processing and transmitting SOAP messages \n",
    "#can be slower than processing and transmitting RESTful messages."
   ]
  },
  {
   "cell_type": "code",
   "execution_count": 10,
   "id": "a2535583-6d62-4819-9584-6b8c79659ba0",
   "metadata": {},
   "outputs": [],
   "source": [
    "#Q5. Differentiate between REST and SOAP."
   ]
  },
  {
   "cell_type": "code",
   "execution_count": null,
   "id": "9cc5549b-7bda-47c3-84e5-bf8195781884",
   "metadata": {},
   "outputs": [],
   "source": [
    "#REST\n",
    "#1)A client-server architecture composed of clients, servers, and resources.\n",
    "#2)Stateless client-server communication, meaning no client content is stored on the server between requests. \n",
    "#Information about the session’s state is instead held with the client.\n",
    "#3)Cacheable data to eliminate the need for some client-server interactions.\n",
    "\n",
    "#SOAP\n",
    "#1)Web services security (WS-security): \n",
    "#Standardizes how messages are secured and transferred through unique identifiers called tokens.\n",
    "#2)WS-ReliableMessaging: \n",
    "#Standardizes error handling between messages transferred across unreliable IT infrastructure.\n",
    "#3Web services addressing (WS-addressing): \n",
    "#Packages routing information as metadata within SOAP headers, instead of maintaining such information deeper within the network."
   ]
  }
 ],
 "metadata": {
  "kernelspec": {
   "display_name": "Python 3 (ipykernel)",
   "language": "python",
   "name": "python3"
  },
  "language_info": {
   "codemirror_mode": {
    "name": "ipython",
    "version": 3
   },
   "file_extension": ".py",
   "mimetype": "text/x-python",
   "name": "python",
   "nbconvert_exporter": "python",
   "pygments_lexer": "ipython3",
   "version": "3.10.8"
  }
 },
 "nbformat": 4,
 "nbformat_minor": 5
}
